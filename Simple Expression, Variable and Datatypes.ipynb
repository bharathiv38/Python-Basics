{
 "cells": [
  {
   "cell_type": "markdown",
   "id": "0b00e13e",
   "metadata": {},
   "source": [
    "# Simple Expression"
   ]
  },
  {
   "cell_type": "raw",
   "id": "692a95a4",
   "metadata": {},
   "source": [
    "Boolean Evaluation\n",
    "\n",
    "Boolean expressions are created with the keywords AND,OR,NOT & IS"
   ]
  },
  {
   "cell_type": "code",
   "execution_count": 1,
   "id": "bda885ec",
   "metadata": {},
   "outputs": [
    {
     "data": {
      "text/plain": [
       "False"
      ]
     },
     "execution_count": 1,
     "metadata": {},
     "output_type": "execute_result"
    }
   ],
   "source": [
    "True and False   #and : both should be true i.es one condition and another condition, both condition should be satisfied"
   ]
  },
  {
   "cell_type": "code",
   "execution_count": 2,
   "id": "10ac9100",
   "metadata": {},
   "outputs": [
    {
     "data": {
      "text/plain": [
       "True"
      ]
     },
     "execution_count": 2,
     "metadata": {},
     "output_type": "execute_result"
    }
   ],
   "source": [
    "True and True #and condition here both conditions are satisfied "
   ]
  },
  {
   "cell_type": "code",
   "execution_count": 3,
   "id": "6e203fd6",
   "metadata": {},
   "outputs": [
    {
     "data": {
      "text/plain": [
       "True"
      ]
     },
     "execution_count": 3,
     "metadata": {},
     "output_type": "execute_result"
    }
   ],
   "source": [
    "True or False #Or : here either one condition should be satisfied"
   ]
  },
  {
   "cell_type": "code",
   "execution_count": 4,
   "id": "1a6031c8",
   "metadata": {},
   "outputs": [
    {
     "data": {
      "text/plain": [
       "False"
      ]
     },
     "execution_count": 4,
     "metadata": {},
     "output_type": "execute_result"
    }
   ],
   "source": [
    "not True #not : pyton interprets between keywords and expression "
   ]
  },
  {
   "cell_type": "code",
   "execution_count": 5,
   "id": "a9c83b79",
   "metadata": {},
   "outputs": [
    {
     "data": {
      "text/plain": [
       "True"
      ]
     },
     "execution_count": 5,
     "metadata": {},
     "output_type": "execute_result"
    }
   ],
   "source": [
    "not False #not:"
   ]
  },
  {
   "cell_type": "code",
   "execution_count": 6,
   "id": "7a65ffa2",
   "metadata": {},
   "outputs": [
    {
     "data": {
      "text/plain": [
       "True"
      ]
     },
     "execution_count": 6,
     "metadata": {},
     "output_type": "execute_result"
    }
   ],
   "source": [
    "True is True #is: evaluation between expressions and gives the results"
   ]
  },
  {
   "cell_type": "code",
   "execution_count": 7,
   "id": "e2be1b46",
   "metadata": {},
   "outputs": [
    {
     "data": {
      "text/plain": [
       "False"
      ]
     },
     "execution_count": 7,
     "metadata": {},
     "output_type": "execute_result"
    }
   ],
   "source": [
    "True is False"
   ]
  },
  {
   "cell_type": "code",
   "execution_count": 8,
   "id": "31e229f4",
   "metadata": {},
   "outputs": [
    {
     "name": "stderr",
     "output_type": "stream",
     "text": [
      "<>:1: SyntaxWarning: \"is\" with a literal. Did you mean \"==\"?\n",
      "<>:1: SyntaxWarning: \"is\" with a literal. Did you mean \"==\"?\n",
      "<ipython-input-8-e2fa3e0bad77>:1: SyntaxWarning: \"is\" with a literal. Did you mean \"==\"?\n",
      "  'a' is 'a'\n"
     ]
    },
    {
     "data": {
      "text/plain": [
       "True"
      ]
     },
     "execution_count": 8,
     "metadata": {},
     "output_type": "execute_result"
    }
   ],
   "source": [
    "'a' is 'a'"
   ]
  },
  {
   "cell_type": "code",
   "execution_count": 9,
   "id": "eefe9fd1",
   "metadata": {},
   "outputs": [
    {
     "name": "stderr",
     "output_type": "stream",
     "text": [
      "<>:1: SyntaxWarning: \"is\" with a literal. Did you mean \"==\"?\n",
      "<>:1: SyntaxWarning: \"is\" with a literal. Did you mean \"==\"?\n",
      "<ipython-input-9-3f3b4e0cb6ec>:1: SyntaxWarning: \"is\" with a literal. Did you mean \"==\"?\n",
      "  'a' is 'b'\n"
     ]
    },
    {
     "data": {
      "text/plain": [
       "False"
      ]
     },
     "execution_count": 9,
     "metadata": {},
     "output_type": "execute_result"
    }
   ],
   "source": [
    "'a' is 'b'"
   ]
  },
  {
   "cell_type": "raw",
   "id": "878271a6",
   "metadata": {},
   "source": [
    "Operators"
   ]
  },
  {
   "cell_type": "code",
   "execution_count": 10,
   "id": "bd262611",
   "metadata": {},
   "outputs": [
    {
     "data": {
      "text/plain": [
       "2"
      ]
     },
     "execution_count": 10,
     "metadata": {},
     "output_type": "execute_result"
    }
   ],
   "source": [
    "True + True  #here we are doing operators\" +\" Python always treats True = 1, False = 0"
   ]
  },
  {
   "cell_type": "code",
   "execution_count": 11,
   "id": "895fca3f",
   "metadata": {},
   "outputs": [
    {
     "data": {
      "text/plain": [
       "1"
      ]
     },
     "execution_count": 11,
     "metadata": {},
     "output_type": "execute_result"
    }
   ],
   "source": [
    "True + False"
   ]
  },
  {
   "cell_type": "code",
   "execution_count": 12,
   "id": "3ea811b0",
   "metadata": {},
   "outputs": [
    {
     "data": {
      "text/plain": [
       "0"
      ]
     },
     "execution_count": 12,
     "metadata": {},
     "output_type": "execute_result"
    }
   ],
   "source": [
    "False + False"
   ]
  },
  {
   "cell_type": "code",
   "execution_count": 13,
   "id": "d1719133",
   "metadata": {},
   "outputs": [
    {
     "data": {
      "text/plain": [
       "1"
      ]
     },
     "execution_count": 13,
     "metadata": {},
     "output_type": "execute_result"
    }
   ],
   "source": [
    "True - False"
   ]
  },
  {
   "cell_type": "code",
   "execution_count": 14,
   "id": "0ada77c7",
   "metadata": {},
   "outputs": [
    {
     "data": {
      "text/plain": [
       "0"
      ]
     },
     "execution_count": 14,
     "metadata": {},
     "output_type": "execute_result"
    }
   ],
   "source": [
    "False - False"
   ]
  },
  {
   "cell_type": "code",
   "execution_count": 15,
   "id": "6e7de7b9",
   "metadata": {},
   "outputs": [
    {
     "data": {
      "text/plain": [
       "-1"
      ]
     },
     "execution_count": 15,
     "metadata": {},
     "output_type": "execute_result"
    }
   ],
   "source": [
    "False - True"
   ]
  },
  {
   "cell_type": "code",
   "execution_count": 16,
   "id": "0efc44a3",
   "metadata": {},
   "outputs": [
    {
     "data": {
      "text/plain": [
       "True"
      ]
     },
     "execution_count": 16,
     "metadata": {},
     "output_type": "execute_result"
    }
   ],
   "source": [
    "10 == 10   #Here we have one condition i.es =="
   ]
  },
  {
   "cell_type": "code",
   "execution_count": 17,
   "id": "626d265a",
   "metadata": {},
   "outputs": [
    {
     "data": {
      "text/plain": [
       "True"
      ]
     },
     "execution_count": 17,
     "metadata": {},
     "output_type": "execute_result"
    }
   ],
   "source": [
    "10 <= 10  #Here we have two condition i.es less < or =="
   ]
  },
  {
   "cell_type": "code",
   "execution_count": 18,
   "id": "d6eadbb0",
   "metadata": {},
   "outputs": [
    {
     "data": {
      "text/plain": [
       "True"
      ]
     },
     "execution_count": 18,
     "metadata": {},
     "output_type": "execute_result"
    }
   ],
   "source": [
    "True and False or True  #here we have two condition 'and'&'Or'"
   ]
  },
  {
   "cell_type": "markdown",
   "id": "d1d1726f",
   "metadata": {},
   "source": [
    "# Variables in Python"
   ]
  },
  {
   "cell_type": "raw",
   "id": "2fa750e1",
   "metadata": {},
   "source": [
    "Variable"
   ]
  },
  {
   "cell_type": "markdown",
   "id": "9e8178a9",
   "metadata": {},
   "source": [
    "A variable in python is defined through assignments. There is no concept of declaring a variable outside of that assignement"
   ]
  },
  {
   "cell_type": "raw",
   "id": "ae47f6e2",
   "metadata": {},
   "source": [
    "A variable name must start with a letter or the underscore character\n",
    "A variable name cannot start with a number\n",
    "A variable name can only contain alpha-numeric characters and underscores (A-z, 0-9, and _ )\n",
    "Variable names are case-sensitive (age, Age and AGE are three different variables)\n",
    "We cannot use a keyword as a variable name, function name or any other identifier. They are used to define the syntax and structure of the Python language.\n",
    "There are 33 keywords in Python 3.7. This number can vary slightly over the course of time."
   ]
  },
  {
   "cell_type": "code",
   "execution_count": 62,
   "id": "cd0b4e13",
   "metadata": {},
   "outputs": [
    {
     "name": "stdout",
     "output_type": "stream",
     "text": [
      "10\n"
     ]
    }
   ],
   "source": [
    "tenth = 10\n",
    "print(tenth)"
   ]
  },
  {
   "cell_type": "code",
   "execution_count": null,
   "id": "47017a6d",
   "metadata": {},
   "outputs": [],
   "source": [
    "lambda = 20 \n",
    "_pav%an = 2\n",
    "praveena = 25\n",
    "_age1 = [20,21,25]\n",
    "1name_2 = [\"rani\" , \"pavan\", \"praveena\"]"
   ]
  },
  {
   "cell_type": "markdown",
   "id": "cedc919b",
   "metadata": {},
   "source": [
    "Here we cannot assing function,identifier and variable starting with numbers are not correct format of assigning data to variable"
   ]
  },
  {
   "cell_type": "raw",
   "id": "b66880ee",
   "metadata": {},
   "source": [
    "# Fundamental types"
   ]
  },
  {
   "cell_type": "raw",
   "id": "95b047cd",
   "metadata": {},
   "source": [
    "Integers"
   ]
  },
  {
   "cell_type": "code",
   "execution_count": 20,
   "id": "a6c4fa8f",
   "metadata": {},
   "outputs": [
    {
     "data": {
      "text/plain": [
       "int"
      ]
     },
     "execution_count": 20,
     "metadata": {},
     "output_type": "execute_result"
    }
   ],
   "source": [
    "#integers       #left x is called variable and 1 is called data, assigning 1 to variable x and this is called data assignment\n",
    "x = 1\n",
    "\n",
    "type(x)          #we are checking the type of data "
   ]
  },
  {
   "cell_type": "raw",
   "id": "2f2ae4d2",
   "metadata": {},
   "source": [
    "Floats\n",
    "\n",
    "Floats literals can be created by adding a decimal component to a number"
   ]
  },
  {
   "cell_type": "code",
   "execution_count": 21,
   "id": "246b3f61",
   "metadata": {},
   "outputs": [
    {
     "data": {
      "text/plain": [
       "float"
      ]
     },
     "execution_count": 21,
     "metadata": {},
     "output_type": "execute_result"
    }
   ],
   "source": [
    "#float\n",
    "\n",
    "x = 1.0\n",
    "\n",
    "type(x)"
   ]
  },
  {
   "cell_type": "raw",
   "id": "1fd20c13",
   "metadata": {},
   "source": [
    "Boolean\n",
    "\n",
    "Boolean can be defined by typing True/False without quotes"
   ]
  },
  {
   "cell_type": "code",
   "execution_count": 23,
   "id": "8d40ae3e",
   "metadata": {},
   "outputs": [
    {
     "data": {
      "text/plain": [
       "bool"
      ]
     },
     "execution_count": 23,
     "metadata": {},
     "output_type": "execute_result"
    }
   ],
   "source": [
    "#boolean\n",
    "b1 = True\n",
    "b2 = False\n",
    "\n",
    "type(b1)"
   ]
  },
  {
   "cell_type": "raw",
   "id": "75c51784",
   "metadata": {},
   "source": [
    "Strings"
   ]
  },
  {
   "cell_type": "raw",
   "id": "cd797a8a",
   "metadata": {},
   "source": [
    "Strings literals can be defined with any of single quotes(''),double quotes(\") or triple quotes(''' or \"\"\"). All give the same results with two important differences. If you quote with singel quotes, you do not have to escape doube quotes and vice-versa.If you quote with triple quotes, your string can span multiple lines."
   ]
  },
  {
   "cell_type": "code",
   "execution_count": 24,
   "id": "646fd61e",
   "metadata": {},
   "outputs": [
    {
     "data": {
      "text/plain": [
       "str"
      ]
     },
     "execution_count": 24,
     "metadata": {},
     "output_type": "execute_result"
    }
   ],
   "source": [
    "#string      \n",
    "name1 = 'xyz'    #any data quoted will be considered as string data type\n",
    "type(name1)"
   ]
  },
  {
   "cell_type": "raw",
   "id": "9615c9f9",
   "metadata": {},
   "source": [
    "Dynamic Typing"
   ]
  },
  {
   "cell_type": "markdown",
   "id": "6bfb5ee9",
   "metadata": {},
   "source": [
    "In Python, while the value that a variable points to has a type, the variable itself has no strict type in its definition. You\n",
    "can re-use the same variable to point to an object of a different type. It may be helpful to think of variables as \"label\"\n",
    "associated with objects"
   ]
  },
  {
   "cell_type": "code",
   "execution_count": 28,
   "id": "d8dee00a",
   "metadata": {},
   "outputs": [
    {
     "name": "stdout",
     "output_type": "stream",
     "text": [
      "10\n"
     ]
    }
   ],
   "source": [
    "ten = 10\n",
    "print(ten)"
   ]
  },
  {
   "cell_type": "code",
   "execution_count": 29,
   "id": "0eb289e9",
   "metadata": {},
   "outputs": [
    {
     "name": "stdout",
     "output_type": "stream",
     "text": [
      "ten\n"
     ]
    }
   ],
   "source": [
    "ten ='ten'\n",
    "print(ten)"
   ]
  },
  {
   "cell_type": "code",
   "execution_count": 30,
   "id": "f906f491",
   "metadata": {},
   "outputs": [
    {
     "name": "stdout",
     "output_type": "stream",
     "text": [
      "xyz\n"
     ]
    }
   ],
   "source": [
    "xyz = 'xyz'\n",
    "print(xyz)"
   ]
  },
  {
   "cell_type": "code",
   "execution_count": 38,
   "id": "d06c66a8",
   "metadata": {},
   "outputs": [
    {
     "name": "stdout",
     "output_type": "stream",
     "text": [
      "xyz\n",
      "ten\n"
     ]
    }
   ],
   "source": [
    "xyz = 'xyz'   #here we can use print twice and can get the results\n",
    "print(xyz)\n",
    "print(ten)"
   ]
  },
  {
   "cell_type": "raw",
   "id": "c10b5c99",
   "metadata": {},
   "source": [
    "Strong Typing"
   ]
  },
  {
   "cell_type": "markdown",
   "id": "32c84c5f",
   "metadata": {},
   "source": [
    "While Python allows you to be very flexible with your types, you must still be aware of what those types are. Certain operations\n",
    "will require certain types as arguments."
   ]
  },
  {
   "cell_type": "code",
   "execution_count": 31,
   "id": "33f7a63f",
   "metadata": {},
   "outputs": [
    {
     "ename": "TypeError",
     "evalue": "can only concatenate str (not \"int\") to str",
     "output_type": "error",
     "traceback": [
      "\u001b[1;31m---------------------------------------------------------------------------\u001b[0m",
      "\u001b[1;31mTypeError\u001b[0m                                 Traceback (most recent call last)",
      "\u001b[1;32m<ipython-input-31-908cd0a928a5>\u001b[0m in \u001b[0;36m<module>\u001b[1;34m\u001b[0m\n\u001b[1;32m----> 1\u001b[1;33m \u001b[1;34m'Day'\u001b[0m \u001b[1;33m+\u001b[0m \u001b[1;36m1\u001b[0m  \u001b[1;31m#here we have string ('Day')and we need to print that with integer('1') can able to combine both string and integer\u001b[0m\u001b[1;33m\u001b[0m\u001b[1;33m\u001b[0m\u001b[0m\n\u001b[0m",
      "\u001b[1;31mTypeError\u001b[0m: can only concatenate str (not \"int\") to str"
     ]
    }
   ],
   "source": [
    "'Day' + 1  #here we have string ('Day')and we need to print that with integer('1') can able to combine both string and integer"
   ]
  },
  {
   "cell_type": "markdown",
   "id": "4ed0ad9c",
   "metadata": {},
   "source": [
    "We are getting error because we cannot add string or number, we have to make to either string to integer or integer to string"
   ]
  },
  {
   "cell_type": "code",
   "execution_count": 35,
   "id": "22c63916",
   "metadata": {},
   "outputs": [
    {
     "ename": "ValueError",
     "evalue": "invalid literal for int() with base 10: 'Day'",
     "output_type": "error",
     "traceback": [
      "\u001b[1;31m---------------------------------------------------------------------------\u001b[0m",
      "\u001b[1;31mValueError\u001b[0m                                Traceback (most recent call last)",
      "\u001b[1;32m<ipython-input-35-4418808c274f>\u001b[0m in \u001b[0;36m<module>\u001b[1;34m\u001b[0m\n\u001b[1;32m----> 1\u001b[1;33m \u001b[0mint\u001b[0m\u001b[1;33m(\u001b[0m\u001b[1;34m'Day'\u001b[0m\u001b[1;33m)\u001b[0m \u001b[1;33m+\u001b[0m \u001b[1;36m1\u001b[0m\u001b[1;33m\u001b[0m\u001b[1;33m\u001b[0m\u001b[0m\n\u001b[0m",
      "\u001b[1;31mValueError\u001b[0m: invalid literal for int() with base 10: 'Day'"
     ]
    }
   ],
   "source": [
    "int('Day') + 1"
   ]
  },
  {
   "cell_type": "markdown",
   "id": "08c146fc",
   "metadata": {},
   "source": [
    "we cannot convert string into integer"
   ]
  },
  {
   "cell_type": "code",
   "execution_count": null,
   "id": "c7cc78ed",
   "metadata": {},
   "outputs": [],
   "source": [
    "This behaviour is different from some other loosely-typed languages. If you were to do the same thing in javascript, you would\n",
    "get a different result.\n",
    "In Python, however it is possible to change the type to an object through builtin function"
   ]
  },
  {
   "cell_type": "code",
   "execution_count": 36,
   "id": "183074c2",
   "metadata": {},
   "outputs": [
    {
     "data": {
      "text/plain": [
       "'Day1'"
      ]
     },
     "execution_count": 36,
     "metadata": {},
     "output_type": "execute_result"
    }
   ],
   "source": [
    "'Day' + str(1)"
   ]
  },
  {
   "cell_type": "code",
   "execution_count": 37,
   "id": "2ce8c8fd",
   "metadata": {},
   "outputs": [
    {
     "data": {
      "text/plain": [
       "'I like python from Day1'"
      ]
     },
     "execution_count": 37,
     "metadata": {},
     "output_type": "execute_result"
    }
   ],
   "source": [
    "'I like python from Day' + str(1)   #also text should be under quotes or else we will get error"
   ]
  },
  {
   "cell_type": "markdown",
   "id": "42238c8a",
   "metadata": {},
   "source": [
    "# Data Types"
   ]
  },
  {
   "cell_type": "raw",
   "id": "ed0c5a9e",
   "metadata": {},
   "source": [
    ". Numbers\n",
    ". String\n",
    ". List\n",
    ". Tuple\n",
    ". Set\n",
    ". Dictionary"
   ]
  },
  {
   "cell_type": "markdown",
   "id": "383acd1f",
   "metadata": {},
   "source": [
    "Numbers"
   ]
  },
  {
   "cell_type": "code",
   "execution_count": 39,
   "id": "8d5d31fb",
   "metadata": {},
   "outputs": [
    {
     "name": "stdout",
     "output_type": "stream",
     "text": [
      "20 is a <class 'int'> type\n"
     ]
    }
   ],
   "source": [
    "a = 20\n",
    "print(a,\"is a\",type(a),'type')   "
   ]
  },
  {
   "cell_type": "markdown",
   "id": "7b4d5f0d",
   "metadata": {},
   "source": [
    "Here 20 is a integer type"
   ]
  },
  {
   "cell_type": "code",
   "execution_count": 41,
   "id": "4240ff24",
   "metadata": {},
   "outputs": [
    {
     "name": "stdout",
     "output_type": "stream",
     "text": [
      "20.9 is a <class 'float'> type\n"
     ]
    }
   ],
   "source": [
    "b =20.9\n",
    "print(b,\"is a\",type(b),'type')"
   ]
  },
  {
   "cell_type": "markdown",
   "id": "e4f0351a",
   "metadata": {},
   "source": [
    "Here 20.0 is float type"
   ]
  },
  {
   "cell_type": "code",
   "execution_count": 43,
   "id": "9f0e065a",
   "metadata": {},
   "outputs": [
    {
     "name": "stdout",
     "output_type": "stream",
     "text": [
      "(6+2j) is a <class 'complex'> type\n"
     ]
    }
   ],
   "source": [
    "c = 6+2j\n",
    "print(c,\"is a\",type(c),'type')"
   ]
  },
  {
   "cell_type": "markdown",
   "id": "3efbd4c4",
   "metadata": {},
   "source": [
    "Here 6+2j is a complex type"
   ]
  },
  {
   "cell_type": "raw",
   "id": "cd938279",
   "metadata": {},
   "source": [
    "String"
   ]
  },
  {
   "cell_type": "code",
   "execution_count": 50,
   "id": "1809b968",
   "metadata": {},
   "outputs": [],
   "source": [
    "first_string =\"Python\"\n",
    "second_string =\" is a powerful\"\n",
    "third_string =\" Language\""
   ]
  },
  {
   "cell_type": "code",
   "execution_count": 51,
   "id": "ea9ad43d",
   "metadata": {},
   "outputs": [
    {
     "name": "stdout",
     "output_type": "stream",
     "text": [
      "Python is a powerful Language\n"
     ]
    }
   ],
   "source": [
    "print(first_string + second_string + third_string)"
   ]
  },
  {
   "cell_type": "raw",
   "id": "7e1bae66",
   "metadata": {},
   "source": [
    "List"
   ]
  },
  {
   "cell_type": "code",
   "execution_count": 52,
   "id": "d3709acf",
   "metadata": {},
   "outputs": [],
   "source": [
    "list = [20, 'string',10.35]  #starts with [] square brackets and ends with []square brackets  we can assign all types of data"
   ]
  },
  {
   "cell_type": "code",
   "execution_count": 53,
   "id": "502e5785",
   "metadata": {},
   "outputs": [
    {
     "name": "stdout",
     "output_type": "stream",
     "text": [
      "[20, 'string', 10.35]\n"
     ]
    }
   ],
   "source": [
    "print(list)"
   ]
  },
  {
   "cell_type": "raw",
   "id": "cb5a97c2",
   "metadata": {},
   "source": [
    "Tuple"
   ]
  },
  {
   "cell_type": "code",
   "execution_count": 54,
   "id": "cfb718f1",
   "metadata": {},
   "outputs": [],
   "source": [
    "tuple =(10, 'string',10.35) #starts with () paranthesis and ends with () paranthesis we can assign all types of data"
   ]
  },
  {
   "cell_type": "code",
   "execution_count": 55,
   "id": "ce03a793",
   "metadata": {},
   "outputs": [
    {
     "name": "stdout",
     "output_type": "stream",
     "text": [
      "(10, 'string', 10.35)\n"
     ]
    }
   ],
   "source": [
    "print(tuple)"
   ]
  },
  {
   "cell_type": "raw",
   "id": "dbff899e",
   "metadata": {},
   "source": [
    "Set"
   ]
  },
  {
   "cell_type": "code",
   "execution_count": 56,
   "id": "ce4c5c2b",
   "metadata": {},
   "outputs": [],
   "source": [
    "Set = {100,1,3.2,\"set\",1}  #starts with {}curly brackets and can assign any type of data, data will be in ascending order &\n",
    "                            #no duplicates will be given"
   ]
  },
  {
   "cell_type": "code",
   "execution_count": 57,
   "id": "2ad2371d",
   "metadata": {},
   "outputs": [
    {
     "name": "stdout",
     "output_type": "stream",
     "text": [
      "{1, 3.2, 100, 'set'}\n"
     ]
    }
   ],
   "source": [
    "print(Set)"
   ]
  },
  {
   "cell_type": "raw",
   "id": "280c00e6",
   "metadata": {},
   "source": [
    "Dictionary"
   ]
  },
  {
   "cell_type": "code",
   "execution_count": 58,
   "id": "fe0e9258",
   "metadata": {},
   "outputs": [],
   "source": [
    "Dict = {'name':'Bangalore','temp':30} #we will assing the key and value in it and it has {}"
   ]
  },
  {
   "cell_type": "code",
   "execution_count": 59,
   "id": "e1edbf79",
   "metadata": {},
   "outputs": [
    {
     "name": "stdout",
     "output_type": "stream",
     "text": [
      "{'name': 'Bangalore', 'temp': 30}\n"
     ]
    }
   ],
   "source": [
    "print(Dict)"
   ]
  },
  {
   "cell_type": "code",
   "execution_count": null,
   "id": "09385070",
   "metadata": {},
   "outputs": [],
   "source": []
  }
 ],
 "metadata": {
  "kernelspec": {
   "display_name": "Python 3",
   "language": "python",
   "name": "python3"
  },
  "language_info": {
   "codemirror_mode": {
    "name": "ipython",
    "version": 3
   },
   "file_extension": ".py",
   "mimetype": "text/x-python",
   "name": "python",
   "nbconvert_exporter": "python",
   "pygments_lexer": "ipython3",
   "version": "3.8.8"
  }
 },
 "nbformat": 4,
 "nbformat_minor": 5
}
