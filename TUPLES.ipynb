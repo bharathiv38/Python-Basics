{
 "cells": [
  {
   "cell_type": "markdown",
   "id": "d4a81d57",
   "metadata": {},
   "source": [
    "# Tuples"
   ]
  },
  {
   "cell_type": "raw",
   "id": "a28fd97b",
   "metadata": {},
   "source": [
    "Tuples are immutable(cannot-edit)data.\n",
    "Constructing Tuples\n",
    "Basic tuple methods\n",
    "Data will be inside parenthesis()"
   ]
  },
  {
   "cell_type": "code",
   "execution_count": 2,
   "id": "0807db09",
   "metadata": {},
   "outputs": [
    {
     "data": {
      "text/plain": [
       "tuple"
      ]
     },
     "execution_count": 2,
     "metadata": {},
     "output_type": "execute_result"
    }
   ],
   "source": [
    "t =()\n",
    "type(t)"
   ]
  },
  {
   "cell_type": "code",
   "execution_count": 3,
   "id": "2f1afaf2",
   "metadata": {},
   "outputs": [
    {
     "name": "stdout",
     "output_type": "stream",
     "text": [
      "(1, 1.5, 'text')\n"
     ]
    }
   ],
   "source": [
    "#create data with mixed data type\n",
    "t = (1,1.5,'text')\n",
    "print(t)"
   ]
  },
  {
   "cell_type": "code",
   "execution_count": 4,
   "id": "5063187f",
   "metadata": {},
   "outputs": [
    {
     "data": {
      "text/plain": [
       "list"
      ]
     },
     "execution_count": 4,
     "metadata": {},
     "output_type": "execute_result"
    }
   ],
   "source": [
    "#convert tuple into list\n",
    "t1 = list(t)\n",
    "type(t1)"
   ]
  },
  {
   "cell_type": "code",
   "execution_count": 5,
   "id": "71b6d781",
   "metadata": {},
   "outputs": [
    {
     "data": {
      "text/plain": [
       "3"
      ]
     },
     "execution_count": 5,
     "metadata": {},
     "output_type": "execute_result"
    }
   ],
   "source": [
    "#check len \n",
    "len(t)"
   ]
  },
  {
   "cell_type": "code",
   "execution_count": 6,
   "id": "95db1ebf",
   "metadata": {},
   "outputs": [
    {
     "data": {
      "text/plain": [
       "'apple'"
      ]
     },
     "execution_count": 6,
     "metadata": {},
     "output_type": "execute_result"
    }
   ],
   "source": [
    "#using index\n",
    "t = ['apple','ball','cat']\n",
    "t[0]"
   ]
  },
  {
   "cell_type": "code",
   "execution_count": 7,
   "id": "dd2f535b",
   "metadata": {},
   "outputs": [
    {
     "data": {
      "text/plain": [
       "'all'"
      ]
     },
     "execution_count": 7,
     "metadata": {},
     "output_type": "execute_result"
    }
   ],
   "source": [
    "#slicing like list we need 'all' from ball using postivie integer\n",
    "t[1][1:]"
   ]
  },
  {
   "cell_type": "code",
   "execution_count": 8,
   "id": "ab855372",
   "metadata": {},
   "outputs": [
    {
     "data": {
      "text/plain": [
       "'a'"
      ]
     },
     "execution_count": 8,
     "metadata": {},
     "output_type": "execute_result"
    }
   ],
   "source": [
    "#slicing like list we need 'cat' from 'a' using negatvie integer\n",
    "t[-1][-2]"
   ]
  },
  {
   "cell_type": "raw",
   "id": "aadf44c9",
   "metadata": {},
   "source": [
    "Basic Tuple method:\n",
    "    Here we have 2 built in function which can be used but not like lists."
   ]
  },
  {
   "cell_type": "code",
   "execution_count": 9,
   "id": "6574d7a1",
   "metadata": {},
   "outputs": [
    {
     "data": {
      "text/plain": [
       "['apple', 'ball', 'cat']"
      ]
     },
     "execution_count": 9,
     "metadata": {},
     "output_type": "execute_result"
    }
   ],
   "source": [
    "t"
   ]
  },
  {
   "cell_type": "code",
   "execution_count": 10,
   "id": "c36dc3da",
   "metadata": {},
   "outputs": [
    {
     "data": {
      "text/plain": [
       "1"
      ]
     },
     "execution_count": 10,
     "metadata": {},
     "output_type": "execute_result"
    }
   ],
   "source": [
    "#to enter a value and return the index use .index\n",
    "t.index('ball')"
   ]
  },
  {
   "cell_type": "code",
   "execution_count": 11,
   "id": "2251b75c",
   "metadata": {},
   "outputs": [
    {
     "data": {
      "text/plain": [
       "1"
      ]
     },
     "execution_count": 11,
     "metadata": {},
     "output_type": "execute_result"
    }
   ],
   "source": [
    "#to count the number of time values appear use .count method\n",
    "t.count('cat')"
   ]
  },
  {
   "cell_type": "markdown",
   "id": "5a13d8a4",
   "metadata": {},
   "source": [
    "# Indexing & Slicing in tuples"
   ]
  },
  {
   "cell_type": "code",
   "execution_count": 20,
   "id": "6eb53dd4",
   "metadata": {},
   "outputs": [
    {
     "name": "stdout",
     "output_type": "stream",
     "text": [
      "('mon', 'tue', 'wed', 'thu', 'fri', 'sat', 'sun')\n"
     ]
    }
   ],
   "source": [
    "day = ('mon','tue','wed','thu','fri','sat','sun')\n",
    "print(day)"
   ]
  },
  {
   "cell_type": "code",
   "execution_count": 21,
   "id": "c2b81004",
   "metadata": {},
   "outputs": [
    {
     "data": {
      "text/plain": [
       "'wed'"
      ]
     },
     "execution_count": 21,
     "metadata": {},
     "output_type": "execute_result"
    }
   ],
   "source": [
    "#output as wed\n",
    "day[2]"
   ]
  },
  {
   "cell_type": "code",
   "execution_count": 22,
   "id": "a18d9e76",
   "metadata": {},
   "outputs": [
    {
     "data": {
      "text/plain": [
       "'sat'"
      ]
     },
     "execution_count": 22,
     "metadata": {},
     "output_type": "execute_result"
    }
   ],
   "source": [
    "#output as saturday \n",
    "day[5]"
   ]
  },
  {
   "cell_type": "code",
   "execution_count": 23,
   "id": "8c6c021d",
   "metadata": {},
   "outputs": [
    {
     "data": {
      "text/plain": [
       "'thu'"
      ]
     },
     "execution_count": 23,
     "metadata": {},
     "output_type": "execute_result"
    }
   ],
   "source": [
    "#output as thu with negative indexing\n",
    "day[-4]"
   ]
  },
  {
   "cell_type": "code",
   "execution_count": 24,
   "id": "43054170",
   "metadata": {},
   "outputs": [
    {
     "data": {
      "text/plain": [
       "'mon'"
      ]
     },
     "execution_count": 24,
     "metadata": {},
     "output_type": "execute_result"
    }
   ],
   "source": [
    "#output as monday - indexing\n",
    "day[-7]"
   ]
  },
  {
   "cell_type": "code",
   "execution_count": 26,
   "id": "27d6bd65",
   "metadata": {},
   "outputs": [
    {
     "data": {
      "text/plain": [
       "('wed', 'thu', 'fri')"
      ]
     },
     "execution_count": 26,
     "metadata": {},
     "output_type": "execute_result"
    }
   ],
   "source": [
    "#output as wed-fri + indexing\n",
    "day[2:5]"
   ]
  },
  {
   "cell_type": "code",
   "execution_count": 30,
   "id": "46ef8fe8",
   "metadata": {},
   "outputs": [
    {
     "data": {
      "text/plain": [
       "('thu', 'fri', 'sat')"
      ]
     },
     "execution_count": 30,
     "metadata": {},
     "output_type": "execute_result"
    }
   ],
   "source": [
    "#output thu,fri,sat negatve\n",
    "day[-4:-1]"
   ]
  },
  {
   "cell_type": "code",
   "execution_count": 32,
   "id": "d853abce",
   "metadata": {},
   "outputs": [
    {
     "data": {
      "text/plain": [
       "('tue', 'wed', 'thu')"
      ]
     },
     "execution_count": 32,
     "metadata": {},
     "output_type": "execute_result"
    }
   ],
   "source": [
    "#output tue,wed,thu as negative indexing\n",
    "day[-6:-3]"
   ]
  },
  {
   "cell_type": "code",
   "execution_count": 33,
   "id": "66a3413a",
   "metadata": {},
   "outputs": [
    {
     "data": {
      "text/plain": [
       "('fri', 'sat', 'sun')"
      ]
     },
     "execution_count": 33,
     "metadata": {},
     "output_type": "execute_result"
    }
   ],
   "source": [
    "#ouput from fri using positive indexing\n",
    "day[-3:]"
   ]
  },
  {
   "cell_type": "code",
   "execution_count": 35,
   "id": "b4350dfe",
   "metadata": {},
   "outputs": [
    {
     "data": {
      "text/plain": [
       "('mon', 'tue', 'wed')"
      ]
     },
     "execution_count": 35,
     "metadata": {},
     "output_type": "execute_result"
    }
   ],
   "source": [
    "#output from mon-wed positive indexing\n",
    "day[:3]"
   ]
  },
  {
   "cell_type": "code",
   "execution_count": 36,
   "id": "eefe5292",
   "metadata": {},
   "outputs": [
    {
     "data": {
      "text/plain": [
       "'hu'"
      ]
     },
     "execution_count": 36,
     "metadata": {},
     "output_type": "execute_result"
    }
   ],
   "source": [
    "#output hu from thur using postive indexing\n",
    "day[3][1:3]"
   ]
  },
  {
   "cell_type": "code",
   "execution_count": 37,
   "id": "7668ddff",
   "metadata": {},
   "outputs": [
    {
     "data": {
      "text/plain": [
       "'tu'"
      ]
     },
     "execution_count": 37,
     "metadata": {},
     "output_type": "execute_result"
    }
   ],
   "source": [
    "#output tu from tue using negative indexing\n",
    "day[-6][-3:-1]"
   ]
  },
  {
   "cell_type": "code",
   "execution_count": 42,
   "id": "9811ea5d",
   "metadata": {},
   "outputs": [
    {
     "data": {
      "text/plain": [
       "('sun', 'sat', 'fri', 'thu', 'wed', 'tue', 'mon')"
      ]
     },
     "execution_count": 42,
     "metadata": {},
     "output_type": "execute_result"
    }
   ],
   "source": [
    "#how to reverse the day\n",
    "day[::-1]"
   ]
  },
  {
   "cell_type": "code",
   "execution_count": 43,
   "id": "bfc361c9",
   "metadata": {},
   "outputs": [
    {
     "data": {
      "text/plain": [
       "('sun', 'fri', 'wed', 'mon')"
      ]
     },
     "execution_count": 43,
     "metadata": {},
     "output_type": "execute_result"
    }
   ],
   "source": [
    "day[::-2]"
   ]
  },
  {
   "cell_type": "markdown",
   "id": "55b0a252",
   "metadata": {},
   "source": [
    "# Immutable"
   ]
  },
  {
   "cell_type": "markdown",
   "id": "8e32a260",
   "metadata": {},
   "source": [
    "As tuples are immutable they cant grow.Once tuple is made we cannot add to it"
   ]
  },
  {
   "cell_type": "code",
   "execution_count": 12,
   "id": "454f4846",
   "metadata": {},
   "outputs": [
    {
     "ename": "AttributeError",
     "evalue": "'tuple' object has no attribute 'append'",
     "output_type": "error",
     "traceback": [
      "\u001b[1;31m---------------------------------------------------------------------------\u001b[0m",
      "\u001b[1;31mAttributeError\u001b[0m                            Traceback (most recent call last)",
      "\u001b[1;32m<ipython-input-12-2e8bcec36851>\u001b[0m in \u001b[0;36m<module>\u001b[1;34m\u001b[0m\n\u001b[0;32m      1\u001b[0m \u001b[0ma\u001b[0m \u001b[1;33m=\u001b[0m \u001b[1;33m(\u001b[0m\u001b[1;36m1\u001b[0m\u001b[1;33m,\u001b[0m\u001b[1;36m2\u001b[0m\u001b[1;33m,\u001b[0m\u001b[1;36m3\u001b[0m\u001b[1;33m,\u001b[0m\u001b[1;36m4\u001b[0m\u001b[1;33m,\u001b[0m\u001b[1;36m5\u001b[0m\u001b[1;33m)\u001b[0m\u001b[1;33m\u001b[0m\u001b[1;33m\u001b[0m\u001b[0m\n\u001b[1;32m----> 2\u001b[1;33m \u001b[0ma\u001b[0m\u001b[1;33m.\u001b[0m\u001b[0mappend\u001b[0m\u001b[1;33m(\u001b[0m\u001b[1;34m'Nope'\u001b[0m\u001b[1;33m)\u001b[0m\u001b[1;33m\u001b[0m\u001b[1;33m\u001b[0m\u001b[0m\n\u001b[0m\u001b[0;32m      3\u001b[0m \u001b[0mprint\u001b[0m\u001b[1;33m(\u001b[0m\u001b[0ma\u001b[0m\u001b[1;33m)\u001b[0m\u001b[1;33m\u001b[0m\u001b[1;33m\u001b[0m\u001b[0m\n",
      "\u001b[1;31mAttributeError\u001b[0m: 'tuple' object has no attribute 'append'"
     ]
    }
   ],
   "source": [
    "a = (1,2,3,4,5)\n",
    "a.append('Nope')\n",
    "print(a)"
   ]
  },
  {
   "cell_type": "markdown",
   "id": "6e9046dc",
   "metadata": {},
   "source": [
    "We will get a error message"
   ]
  },
  {
   "cell_type": "code",
   "execution_count": null,
   "id": "a6bd175a",
   "metadata": {},
   "outputs": [],
   "source": []
  },
  {
   "cell_type": "code",
   "execution_count": null,
   "id": "b66b4a7a",
   "metadata": {},
   "outputs": [],
   "source": []
  }
 ],
 "metadata": {
  "kernelspec": {
   "display_name": "Python 3",
   "language": "python",
   "name": "python3"
  },
  "language_info": {
   "codemirror_mode": {
    "name": "ipython",
    "version": 3
   },
   "file_extension": ".py",
   "mimetype": "text/x-python",
   "name": "python",
   "nbconvert_exporter": "python",
   "pygments_lexer": "ipython3",
   "version": "3.8.8"
  }
 },
 "nbformat": 4,
 "nbformat_minor": 5
}
