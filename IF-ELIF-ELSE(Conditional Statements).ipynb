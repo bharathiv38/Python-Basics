{
 "cells": [
  {
   "cell_type": "markdown",
   "id": "9b2dc819",
   "metadata": {},
   "source": [
    "# IF_ELIF_ELSE"
   ]
  },
  {
   "cell_type": "code",
   "execution_count": null,
   "id": "dbe50efc",
   "metadata": {},
   "outputs": [],
   "source": [
    "Python provides "
   ]
  },
  {
   "cell_type": "code",
   "execution_count": 7,
   "id": "537c0019",
   "metadata": {},
   "outputs": [
    {
     "name": "stdout",
     "output_type": "stream",
     "text": [
      "15 or more\n"
     ]
    }
   ],
   "source": [
    "i = 20\n",
    "\n",
    "if i < 5:\n",
    "    print('less than 3')\n",
    "elif i < 15:\n",
    "    print('less than 15')\n",
    "else:\n",
    "    print('15 or more')"
   ]
  },
  {
   "cell_type": "code",
   "execution_count": 8,
   "id": "7d99bed0",
   "metadata": {},
   "outputs": [],
   "source": [
    "i = 9\n",
    "j = 23\n",
    "if i > j:\n",
    "    print('i is greater than j')"
   ]
  },
  {
   "cell_type": "markdown",
   "id": "4633a95b",
   "metadata": {},
   "source": [
    "In the above we did not get the output because condition is not True and it will not give any error "
   ]
  },
  {
   "cell_type": "code",
   "execution_count": 9,
   "id": "5e63d221",
   "metadata": {},
   "outputs": [
    {
     "name": "stdout",
     "output_type": "stream",
     "text": [
      "B\n"
     ]
    }
   ],
   "source": [
    "#different way of a using conditions\n",
    "a = 2\n",
    "b = 330\n",
    "print(\"A\") if a > b else print(\"B\")"
   ]
  },
  {
   "cell_type": "code",
   "execution_count": 10,
   "id": "6313aff6",
   "metadata": {},
   "outputs": [
    {
     "name": "stdout",
     "output_type": "stream",
     "text": [
      "B\n"
     ]
    }
   ],
   "source": [
    "a = 230\n",
    "b = 330\n",
    "print(\"A\") if a > b else print(\"=\") if a == b else print(\"B\")"
   ]
  },
  {
   "cell_type": "code",
   "execution_count": 11,
   "id": "d3264f61",
   "metadata": {},
   "outputs": [
    {
     "name": "stdout",
     "output_type": "stream",
     "text": [
      "Both are not true\n"
     ]
    }
   ],
   "source": [
    "#checking two conditions at same time using 'and'operator\n",
    "a = 230\n",
    "b = 33\n",
    "c = 550\n",
    "if a > b and c < a:\n",
    "    print(\"Both the conditions are true\")\n",
    "else:\n",
    "    print(\"Both are not true\")"
   ]
  },
  {
   "cell_type": "code",
   "execution_count": 12,
   "id": "6502bb12",
   "metadata": {},
   "outputs": [
    {
     "name": "stdout",
     "output_type": "stream",
     "text": [
      "At least one of the condition is true\n"
     ]
    }
   ],
   "source": [
    "#checking two conditions at same time using 'or'operator\n",
    "a = 230\n",
    "b = 33\n",
    "c = 550\n",
    "if a > b or a > c:\n",
    "    print(\"At least one of the condition is true\")"
   ]
  },
  {
   "cell_type": "code",
   "execution_count": 13,
   "id": "5dd00650",
   "metadata": {},
   "outputs": [
    {
     "name": "stdout",
     "output_type": "stream",
     "text": [
      "but not above 20.\n"
     ]
    }
   ],
   "source": [
    "#checking conditions with 'nested if 'statement\n",
    "x = 41\n",
    "\n",
    "if x < 10:\n",
    "    print(\"Above ten\")\n",
    "    if x > 20:\n",
    "        print(\"and also above 20!\")\n",
    "else:\n",
    "    print(\"but not above 20.\")"
   ]
  },
  {
   "cell_type": "code",
   "execution_count": 14,
   "id": "d9b680a0",
   "metadata": {},
   "outputs": [
    {
     "name": "stdout",
     "output_type": "stream",
     "text": [
      "but not above 20.\n"
     ]
    }
   ],
   "source": [
    "a = 100\n",
    "\n",
    "if a < 10:\n",
    "    print(\"Above ten\")\n",
    "    if a > 50:\n",
    "        print(\"and also above 20!\")\n",
    "else:\n",
    "    print(\"but not above 20.\")"
   ]
  },
  {
   "cell_type": "code",
   "execution_count": 15,
   "id": "44a1345e",
   "metadata": {},
   "outputs": [
    {
     "name": "stdout",
     "output_type": "stream",
     "text": [
      "Above ten\n",
      "and also above 20!\n"
     ]
    }
   ],
   "source": [
    "a = 50\n",
    "\n",
    "if a < 70:\n",
    "    print(\"Above ten\")\n",
    "    if a > 40:\n",
    "        print(\"and also above 20!\")\n",
    "else:\n",
    "    print(\"but not above 20.\")"
   ]
  },
  {
   "cell_type": "code",
   "execution_count": 16,
   "id": "bf6de730",
   "metadata": {},
   "outputs": [],
   "source": [
    "a = 33\n",
    "b = 200\n",
    "\n",
    "if b > a:\n",
    "    pass"
   ]
  },
  {
   "cell_type": "markdown",
   "id": "2dfe30cb",
   "metadata": {},
   "source": [
    "Here condition is just pass and it will move on"
   ]
  },
  {
   "cell_type": "code",
   "execution_count": 17,
   "id": "0a45be2e",
   "metadata": {},
   "outputs": [
    {
     "name": "stdout",
     "output_type": "stream",
     "text": [
      "i is 15\n"
     ]
    }
   ],
   "source": [
    "i = 15\n",
    "\n",
    "if (i == 10):\n",
    "    print('i is 10')\n",
    "elif (i == 15):\n",
    "    print('i is 15')\n",
    "elif (i == 20):\n",
    "    print('i is 20')\n",
    "else:\n",
    "    (\"i is not present\")"
   ]
  },
  {
   "cell_type": "code",
   "execution_count": 18,
   "id": "dd2cfdfd",
   "metadata": {},
   "outputs": [
    {
     "name": "stdout",
     "output_type": "stream",
     "text": [
      "its not 20\n"
     ]
    }
   ],
   "source": [
    "i = 35\n",
    "j = 32\n",
    "k = 35\n",
    "if i > j:\n",
    "    if j < k:\n",
    "        if k == 20:\n",
    "            print(\"its 20\")\n",
    "        else:\n",
    "            print(\"its not 20\")\n",
    "    else:\n",
    "        print(\"k\")\n",
    "else:\n",
    "    print(\"something\")"
   ]
  },
  {
   "cell_type": "code",
   "execution_count": 19,
   "id": "1e9af1d3",
   "metadata": {},
   "outputs": [
    {
     "name": "stdout",
     "output_type": "stream",
     "text": [
      "its not 40\n"
     ]
    }
   ],
   "source": [
    "a = 44\n",
    "b = 42\n",
    "c = 45\n",
    "if a > b:\n",
    "    if b < c:\n",
    "        if c == 40:\n",
    "            print(\"its 40\")\n",
    "        else:\n",
    "            print(\"its not 40\")\n",
    "    else:\n",
    "        print(\"c\")\n",
    "else:\n",
    "    print(\"something\")"
   ]
  },
  {
   "cell_type": "code",
   "execution_count": 20,
   "id": "61769447",
   "metadata": {},
   "outputs": [
    {
     "name": "stdout",
     "output_type": "stream",
     "text": [
      "Enter the num: 3\n",
      "Positive\n"
     ]
    }
   ],
   "source": [
    "# check weather the number is positive or negitive or equal to zero using input\n",
    "num = int(input(\"Enter the num: \"))\n",
    "\n",
    "if num >= 0:\n",
    "    print(\"Positive\")\n",
    "elif num == 0:\n",
    "    print(\"Zero\")\n",
    "else:\n",
    "    print(\"negative\")"
   ]
  },
  {
   "cell_type": "code",
   "execution_count": 21,
   "id": "40196660",
   "metadata": {},
   "outputs": [
    {
     "name": "stdout",
     "output_type": "stream",
     "text": [
      "Enter the number: 22\n",
      "Even Num\n"
     ]
    }
   ],
   "source": [
    "#find the number is even or odd by using input \n",
    "num = int(input(\"Enter the number: \"))\n",
    "\n",
    "if (num % 2) ==0:\n",
    "    print(\"Even Num\")\n",
    "else:\n",
    "    print(\"Odd Num\")"
   ]
  }
 ],
 "metadata": {
  "kernelspec": {
   "display_name": "Python 3",
   "language": "python",
   "name": "python3"
  },
  "language_info": {
   "codemirror_mode": {
    "name": "ipython",
    "version": 3
   },
   "file_extension": ".py",
   "mimetype": "text/x-python",
   "name": "python",
   "nbconvert_exporter": "python",
   "pygments_lexer": "ipython3",
   "version": "3.8.8"
  }
 },
 "nbformat": 4,
 "nbformat_minor": 5
}
