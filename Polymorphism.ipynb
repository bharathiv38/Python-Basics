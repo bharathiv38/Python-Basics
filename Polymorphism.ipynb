{
 "cells": [
  {
   "cell_type": "markdown",
   "id": "e5926f1b",
   "metadata": {},
   "source": [
    "# Polymorphism"
   ]
  },
  {
   "cell_type": "markdown",
   "id": "573d2ebd",
   "metadata": {},
   "source": [
    "operator overloading"
   ]
  },
  {
   "cell_type": "code",
   "execution_count": 1,
   "id": "c9163947",
   "metadata": {},
   "outputs": [
    {
     "name": "stdout",
     "output_type": "stream",
     "text": [
      "3\n",
      "helloworld\n",
      "(1, 2, 3, 4, 5, 6)\n"
     ]
    }
   ],
   "source": [
    "#operator overloading\n",
    "a = 1\n",
    "b = 2\n",
    "print(a+b)\n",
    "\n",
    "c = \"hello\"\n",
    "d = \"world\"\n",
    "print(c+d)\n",
    "\n",
    "e = (1,2,3)\n",
    "f = (4,5,6)\n",
    "print(e+f)"
   ]
  },
  {
   "cell_type": "code",
   "execution_count": 2,
   "id": "17ef2b57",
   "metadata": {},
   "outputs": [
    {
     "name": "stdout",
     "output_type": "stream",
     "text": [
      "appleball\n",
      "32\n",
      "(3, 3, 3, 6, 6, 6)\n"
     ]
    }
   ],
   "source": [
    "#operator overloading\n",
    "a = \"apple\"\n",
    "b = \"ball\"\n",
    "print(a+b)\n",
    "\n",
    "c = 12\n",
    "d =20\n",
    "print(c+d)\n",
    "\n",
    "e = (3,3,3)\n",
    "f = (6,6,6)\n",
    "print(e+f)"
   ]
  },
  {
   "cell_type": "code",
   "execution_count": 9,
   "id": "408ebe4f",
   "metadata": {},
   "outputs": [
    {
     "name": "stdout",
     "output_type": "stream",
     "text": [
      "3000\n"
     ]
    }
   ],
   "source": [
    "class exp:\n",
    "    def __init__(self, exp):\n",
    "        self.exp = exp\n",
    "    \n",
    "    def __add__(self, other):\n",
    "        return (self.exp + other.exp)\n",
    "    \n",
    "e1 = exp(1000)\n",
    "e2 = exp(2000)\n",
    "\n",
    "print(e1 + e2)#e1.__add__(e2)"
   ]
  },
  {
   "cell_type": "raw",
   "id": "a2947548",
   "metadata": {},
   "source": [
    "Method overloading"
   ]
  },
  {
   "cell_type": "code",
   "execution_count": 10,
   "id": "18d81e80",
   "metadata": {},
   "outputs": [],
   "source": [
    "class Test:\n",
    "    def method(self):\n",
    "        print('first method')\n",
    "    \n",
    "    def method(self,a):\n",
    "        print('second method')\n",
    "    \n",
    "    def method(self,a,b):\n",
    "        print('third method')"
   ]
  },
  {
   "cell_type": "code",
   "execution_count": 11,
   "id": "cfcec74c",
   "metadata": {},
   "outputs": [
    {
     "name": "stdout",
     "output_type": "stream",
     "text": [
      "third method\n"
     ]
    }
   ],
   "source": [
    "t=Test()\n",
    "t.method(10,20)\n",
    "\n",
    "\n",
    "\n",
    "\n",
    "#t.method(10)\n",
    "# t.method(10,20) "
   ]
  },
  {
   "cell_type": "code",
   "execution_count": 12,
   "id": "ed9454d1",
   "metadata": {},
   "outputs": [
    {
     "name": "stdout",
     "output_type": "stream",
     "text": [
      "The Sum of 2 Numbers: 30\n",
      "The Sum of 3 Numbers: 60.0\n"
     ]
    }
   ],
   "source": [
    "class Test:\n",
    "    def sum(self,a=None,b=None,c=None):\n",
    "        if a!=None and b!= None and c!= None:\n",
    "            print('The Sum of 3 Numbers:',a+b+c)\n",
    "        elif a!=None and b!= None:\n",
    "            print('The Sum of 2 Numbers:',a+b)\n",
    "        else:\n",
    "            print('Please provide 2 or 3 arguments')\n",
    "\n",
    "t=Test() \n",
    "t.sum(10,20)\n",
    "t.sum(10,20.,30)"
   ]
  },
  {
   "cell_type": "code",
   "execution_count": 14,
   "id": "db8b76e4",
   "metadata": {},
   "outputs": [],
   "source": [
    "class test:\n",
    "    def add(test,*num):\n",
    "        total =0\n",
    "        for i in num:\n",
    "            total = total+i\n",
    "            \n",
    "            print(\"sum\",total)\n",
    "            \n"
   ]
  },
  {
   "cell_type": "code",
   "execution_count": 16,
   "id": "78f3b78a",
   "metadata": {},
   "outputs": [
    {
     "name": "stdout",
     "output_type": "stream",
     "text": [
      "sum 20\n",
      "sum 40\n",
      "sum 60\n"
     ]
    }
   ],
   "source": [
    "t = test()\n",
    "t.add(20)\n",
    "t.add(20+20)\n",
    "t.add(20+20+20)"
   ]
  },
  {
   "cell_type": "raw",
   "id": "7d0000f2",
   "metadata": {},
   "source": [
    "Constructor overloading"
   ]
  },
  {
   "cell_type": "code",
   "execution_count": 19,
   "id": "6a1ef5a2",
   "metadata": {},
   "outputs": [
    {
     "name": "stdout",
     "output_type": "stream",
     "text": [
      "Two-Argumenta constructor\n",
      "Two-Argumenta constructor\n"
     ]
    }
   ],
   "source": [
    "class Test:\n",
    "    def __init__(self):\n",
    "        print('No-Arguments Constructor')\n",
    "\n",
    "    def __init__(self,a):\n",
    "        print('One-Argument constructor')\n",
    "\n",
    "    def __init__(self,a,b):\n",
    "        print('Two-Argumenta constructor') \n",
    "        \n",
    "t1=Test(10,20)\n",
    "\n",
    "t1=Test(10,20)"
   ]
  },
  {
   "cell_type": "code",
   "execution_count": 25,
   "id": "af7d6a07",
   "metadata": {},
   "outputs": [
    {
     "name": "stdout",
     "output_type": "stream",
     "text": [
      "Two items found\n"
     ]
    }
   ],
   "source": [
    "class shop:\n",
    "    def __init__(self):\n",
    "        print(\"No Items\")\n",
    "    def __init__(self,a):\n",
    "        print(\"One item found\")\n",
    "    def __init__(self,a,b):\n",
    "        print(\"Two items found\")\n",
    "        \n",
    "s1 =shop(30,40)        "
   ]
  },
  {
   "cell_type": "raw",
   "id": "e60a3f37",
   "metadata": {},
   "source": [
    "Method overriding"
   ]
  },
  {
   "cell_type": "code",
   "execution_count": 20,
   "id": "8bc28eae",
   "metadata": {},
   "outputs": [],
   "source": [
    "class P:\n",
    "    def house(self):\n",
    "        print('Iam parent i have a house')\n",
    "        \n",
    "class C(P):\n",
    "    \n",
    "    def house(self):\n",
    "        super().house() # if we want we can access by super()\n",
    "        print('Iam child i have a house') \n",
    "        \n",
    "ob = C()"
   ]
  },
  {
   "cell_type": "code",
   "execution_count": 21,
   "id": "24497cd5",
   "metadata": {},
   "outputs": [
    {
     "name": "stdout",
     "output_type": "stream",
     "text": [
      "Iam parent i have a house\n",
      "Iam child i have a house\n"
     ]
    }
   ],
   "source": [
    "ob.house()"
   ]
  },
  {
   "cell_type": "code",
   "execution_count": 28,
   "id": "bdf16261",
   "metadata": {},
   "outputs": [
    {
     "name": "stdout",
     "output_type": "stream",
     "text": [
      "Iam a parent and i have a car\n",
      "Iam a child and i have a lambo\n"
     ]
    }
   ],
   "source": [
    "class p:\n",
    "    \n",
    "    def car(self):\n",
    "        print(\"Iam a parent and i have a car\")\n",
    "        \n",
    "class C(p):\n",
    "    \n",
    "    def lambo(self):\n",
    "        super().car()\n",
    "        print(\"Iam a child and i have a lambo\")\n",
    "ob = C()\n",
    "ob.lambo()"
   ]
  },
  {
   "cell_type": "raw",
   "id": "03787e37",
   "metadata": {},
   "source": [
    "constructor overriding"
   ]
  },
  {
   "cell_type": "code",
   "execution_count": 22,
   "id": "62fb3740",
   "metadata": {},
   "outputs": [
    {
     "name": "stdout",
     "output_type": "stream",
     "text": [
      "Parent Constructor\n",
      "Child Constructor\n"
     ]
    }
   ],
   "source": [
    "class P:\n",
    "    def __init__(self):\n",
    "        print('Parent Constructor')\n",
    "        \n",
    "        \n",
    "class C(P):\n",
    "    \n",
    "    def __init__(self):\n",
    "        super().__init__() # we can use super and access parent constructor\n",
    "        print('Child Constructor')\n",
    "c=C() "
   ]
  },
  {
   "cell_type": "code",
   "execution_count": 2,
   "id": "1d156f57",
   "metadata": {},
   "outputs": [
    {
     "name": "stdout",
     "output_type": "stream",
     "text": [
      "Main movie\n",
      "short movie\n"
     ]
    }
   ],
   "source": [
    "class vishal:\n",
    "    def __init__(self):\n",
    "        print(\"Main movie\")\n",
    "        \n",
    "class ranjith(vishal):\n",
    "    def __init__(self):\n",
    "        super().__init__()\n",
    "        print(\"short movie\")\n",
    "        \n",
    "M=ranjith()        "
   ]
  },
  {
   "cell_type": "code",
   "execution_count": 5,
   "id": "4e183519",
   "metadata": {},
   "outputs": [
    {
     "name": "stdout",
     "output_type": "stream",
     "text": [
      "name : i20\n",
      "model : mid=varient\n",
      "wheels : 4\n",
      "price is: 8LK\n",
      "payment_type is: debit\n"
     ]
    }
   ],
   "source": [
    "class car:\n",
    "    \n",
    "    def __init__(self,name, model,wheels):\n",
    "        self.name = name\n",
    "        self.model = model\n",
    "        self.wheels = wheels\n",
    "        \n",
    "    def display(self):\n",
    "        print(\"name :\",self.name)\n",
    "        print(\"model :\",self.model)\n",
    "        print(\"wheels :\",self.wheels)\n",
    "        \n",
    "        \n",
    "class purchase(car):\n",
    "    def __init__(self,brand,model,wheels,price,payment_type):\n",
    "        super().__init__(brand,model,wheels)\n",
    "        self.price=price\n",
    "        self.payment_type = payment_type\n",
    "        \n",
    "    def display(self):\n",
    "        super().display()\n",
    "        print(\"price is:\",self.price)\n",
    "        print(\"payment_type is:\",self.payment_type)\n",
    "        \n",
    "ob = purchase(\"i20\",\"mid=varient\",4,\"8LK\",'debit')\n",
    "ob.display()\n",
    "\n",
    "        \n",
    "        "
   ]
  },
  {
   "cell_type": "code",
   "execution_count": 14,
   "id": "bf253bf8",
   "metadata": {},
   "outputs": [
    {
     "name": "stdout",
     "output_type": "stream",
     "text": [
      "name  12 sticks\n",
      "dhoop  1 dhoop\n",
      "camphor  2 camphor\n",
      "oil is gingelly oil\n",
      "sweet is mottichur laddoo\n"
     ]
    }
   ],
   "source": [
    "class pooja:\n",
    "    def __init__(self,name,dhoop,camphor):\n",
    "        self.name = name\n",
    "        self.dhoop = dhoop\n",
    "        self.camphor = camphor\n",
    "        \n",
    "    def display(self):\n",
    "        print(\"name \",self.name)\n",
    "        print(\"dhoop \",self.dhoop)\n",
    "        print(\"camphor \",self.camphor)\n",
    "        \n",
    "class attend(pooja):\n",
    "    def __init__(self,name,dhoop,camphor,oil,sweets):\n",
    "        super().__init__(name,dhoop,camphor)\n",
    "        self.oil=oil\n",
    "        self.sweets = sweets\n",
    "        \n",
    "    def display(self):\n",
    "        super().display()\n",
    "        print(\"oil is\",self.oil)\n",
    "        print(\"sweet is\",self.sweets)\n",
    "        \n",
    "ob = attend(\"12 sticks\",\"1 dhoop\",\"2 camphor\",\"gingelly oil\",\"mottichur laddoo\")\n",
    "ob.display()"
   ]
  },
  {
   "cell_type": "code",
   "execution_count": 26,
   "id": "c0a980b1",
   "metadata": {},
   "outputs": [
    {
     "name": "stdout",
     "output_type": "stream",
     "text": [
      "Enter the mobile name : s\n",
      "Enter the ram: 1\n",
      "Enter the color: b\n",
      "Thanks for purchasing\n",
      "Want to purchase another mobile [yes/no]no\n",
      "Name :  s\n",
      "Ram :  1\n",
      "Color : b\n",
      "\n"
     ]
    }
   ],
   "source": [
    "class mobile:\n",
    "    \n",
    "    def __init__(self,name,ram,color):\n",
    "        self.name = name\n",
    "        self.ram = ram\n",
    "        self.color =color\n",
    "        \n",
    "    def info(self):\n",
    "        print(\"Name : \",self.name)\n",
    "        print(\"Ram : \",self.ram)\n",
    "        print(\"Color :\",self.color)\n",
    "        \n",
    "list_of_mobile_sold = []\n",
    "while True:\n",
    "    name = input(\"Enter the mobile name : \")\n",
    "    ram = int(input(\"Enter the ram: \"))\n",
    "    color = input(\"Enter the color: \")\n",
    "    m = mobile(name,ram,color)\n",
    "    list_of_mobile_sold.append(m)\n",
    "    print(\"Thanks for purchasing\")\n",
    "    opt = input(\"Want to purchase another mobile [yes/no]\")\n",
    "    if opt.lower() == \"no\":\n",
    "        break\n",
    "for mobile in list_of_mobile_sold:\n",
    "    mobile.info()\n",
    "    print()"
   ]
  },
  {
   "cell_type": "code",
   "execution_count": 20,
   "id": "9c253b87",
   "metadata": {},
   "outputs": [
    {
     "name": "stdout",
     "output_type": "stream",
     "text": [
      "Enter the mobile you want to purchase: sam\n",
      "Enter prefered ram: 12\n",
      "Enter preferd colorblack\n",
      "Thanks for purchasing\n",
      "Want to purchase another mobile [yes/no]no\n",
      "Mobile name : sam\n",
      "Ram : 12\n",
      "color of mobile: black\n",
      "\n"
     ]
    }
   ],
   "source": [
    "class Mobile:\n",
    "    def __init__(self, name,ram, color):\n",
    "        self.name = name\n",
    "        self.ram = ram\n",
    "        self.color = color\n",
    "\n",
    "    def info(self):\n",
    "        print(\"Mobile name :\", self.name)\n",
    "        print(\"Ram :\", self.ram)\n",
    "        print(\"color of mobile:\", self.color)\n",
    "list_of_mobile_sold = []\n",
    "while True:\n",
    "    name = input(\"Enter the mobile you want to purchase: \")\n",
    "    ram = input(\"Enter prefered ram: \")\n",
    "    color = input(\"Enter preferd color\")\n",
    "    m = Mobile(name,ram,color)\n",
    "    list_of_mobile_sold.append(m)\n",
    "    print(\"Thanks for purchasing\")\n",
    "    opt = input(\"Want to purchase another mobile [yes/no]\")\n",
    "    if opt.lower() =='no':\n",
    "        break \n",
    "for mobile in list_of_mobile_sold:\n",
    "    mobile.info()\n",
    "    print()\n"
   ]
  },
  {
   "cell_type": "code",
   "execution_count": null,
   "id": "16865a4c",
   "metadata": {},
   "outputs": [],
   "source": []
  }
 ],
 "metadata": {
  "kernelspec": {
   "display_name": "Python 3",
   "language": "python",
   "name": "python3"
  },
  "language_info": {
   "codemirror_mode": {
    "name": "ipython",
    "version": 3
   },
   "file_extension": ".py",
   "mimetype": "text/x-python",
   "name": "python",
   "nbconvert_exporter": "python",
   "pygments_lexer": "ipython3",
   "version": "3.8.8"
  }
 },
 "nbformat": 4,
 "nbformat_minor": 5
}
