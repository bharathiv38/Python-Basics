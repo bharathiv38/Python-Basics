{
 "cells": [
  {
   "cell_type": "markdown",
   "id": "831c73f1",
   "metadata": {},
   "source": [
    "# Association\n",
    "Composition and aggregation are specialised form of Association.\n",
    "Whereas Association is a relationship between two classes without any rules."
   ]
  },
  {
   "cell_type": "markdown",
   "id": "a074ddbf",
   "metadata": {},
   "source": [
    "# Composition(HAS - A Relation) Strong Association\n",
    "In composition, one of the classes is composed of one or more instance of other classes.\n",
    "In other words, one class is container and other class is content and if you delete the container object then all of its contents objects are also deleted."
   ]
  },
  {
   "cell_type": "code",
   "execution_count": null,
   "id": "c85529e6",
   "metadata": {},
   "outputs": [],
   "source": [
    "class myntra:\n",
    "    def __init__(self):\n",
    "        print(\"Welcome to myntra\")\n",
    "        self.m = self.Mens()\n",
    "        self.w = self.womens()\n",
    "\n",
    "    class Mens:\n",
    "        def __init__(self):\n",
    "            print(\"welcome to mens section\")\n",
    "\n",
    "        class footware:\n",
    "            def __init__(self):\n",
    "                print(\"welcome to mens footware\")\n",
    "\n",
    "            def woodland(self):\n",
    "                print(\"Thanks for searching woodland\")\n",
    "\n",
    "            def crocs(self):\n",
    "                print(\"thanks for searching crocs\")\n",
    "\n",
    "        class clothing:\n",
    "            def __init__(self):\n",
    "                print(\"welcome to clothing\")\n",
    "\n",
    "            def Gstar(self):\n",
    "                print(\"thanks fot searching Gstar\")\n",
    "\n",
    "\n",
    "    class womens:\n",
    "        def __init__(self):\n",
    "            print(\"welcome to women section\")\n",
    "\n",
    "        class footware:\n",
    "            def __init__(self):\n",
    "                print(\"welcome to  women footware\")\n",
    "\n",
    "            def woodland(self):\n",
    "                print(\"Thanks for searching woodland\")\n",
    "\n",
    "            def crocs(self):\n",
    "                print(\"thanks for searching crocs\")\n",
    "\n",
    "        class clothing:\n",
    "            def __init__(self):\n",
    "                print(\"welcome to clothing\")\n",
    "\n",
    "            def Gstar(self):\n",
    "                print(\"thanks fot searching Gstar\")\n",
    "\n",
    "shopping = myntra()\n",
    "shopping.m.footware().crocs()\n",
    "shopping.w.clothing().Gstar()\n",
    "                        \n",
    "# shoping = myntra()\n",
    "# men = shoping.Mens()\n",
    "# foot = men.footware()\n",
    "# foot.woodland()\n",
    "\n",
    "\n",
    "# women = shoping.womens()\n",
    "# foot1 = women.footware()\n",
    "# foot1.woodland()"
   ]
  },
  {
   "cell_type": "markdown",
   "id": "cead1a43",
   "metadata": {},
   "source": [
    "# Aggregation( HAS- A Relation) Week association\n",
    "Aggregation is a weak form of composition. If you delete the container object contents objects can\n",
    "live without container object."
   ]
  },
  {
   "cell_type": "code",
   "execution_count": null,
   "id": "1d0c0733",
   "metadata": {},
   "outputs": [],
   "source": [
    "class laptop:\n",
    "    def __init__(self, brand, color, inch):\n",
    "        self.brand = brand\n",
    "        self.color = color\n",
    "        self.inch = inch\n",
    "\n",
    "    def laptop_info(self):\n",
    "        print(f'laptop brand : {self.brand}\\n color : {self.color}\\n inch: {self.inch}')\n",
    "\n",
    "\n",
    "class emp:\n",
    "    def __init__(self, ename, eno, lpt):\n",
    "        self.ename = ename\n",
    "        self.eno = eno\n",
    "        self.lpt = lpt\n",
    "\n",
    "    def emp_info(self):\n",
    "        print('Emp Name', self.ename)\n",
    "        print(\"Emp No \", self.eno)\n",
    "        print(\"Emp laptop info :\", )\n",
    "        self.lpt.laptop_info()\n",
    "\n",
    "laptop1 = laptop(\"lenovo\", \"black\", 15)\n",
    "emp1 = emp(\"sharma\", 12121, laptop1)\n",
    "emp1.emp_info()"
   ]
  },
  {
   "cell_type": "markdown",
   "id": "1230a439",
   "metadata": {},
   "source": [
    "# Inheritance ( IS -A relation)\n",
    "Inheritance is a term that is used to describe a Python class within another class. Classes called subclasses or child classes can inherit values from parent classes, similar to how children inherit characteristics from their parents in the real world.\n",
    "\n",
    "Inheritance is useful because it allows us to create subclasses that have the same value types as a parent class, without having to declare those types multiple times"
   ]
  },
  {
   "cell_type": "raw",
   "id": "31fce387",
   "metadata": {},
   "source": [
    "single inheritance"
   ]
  },
  {
   "cell_type": "code",
   "execution_count": null,
   "id": "e887bbe1",
   "metadata": {},
   "outputs": [],
   "source": [
    "class parent:\n",
    "    \n",
    "    def house(self):\n",
    "        print(\"I am a parent and i have a house\")\n",
    "        \n",
    "class child(parent):\n",
    "    \n",
    "    def dh(self):\n",
    "        print(\"I am a child and i have a duplex house\")\n",
    "        \n",
    "ob = child()\n",
    "ob.house()\n",
    "ob.dh()"
   ]
  },
  {
   "cell_type": "code",
   "execution_count": null,
   "id": "be35a948",
   "metadata": {},
   "outputs": [],
   "source": [
    "class parent:\n",
    "    \n",
    "    def car(self):\n",
    "        print(\"I have a car\")\n",
    "\n",
    "class child(parent):\n",
    "    \n",
    "    def bmw(self):\n",
    "        print(\"I have a bmw\")\n",
    "        \n",
    "ob = child() \n",
    "ob.car()\n",
    "ob.bmw()"
   ]
  },
  {
   "cell_type": "raw",
   "id": "38feef57",
   "metadata": {},
   "source": [
    "Multilevel inheritance"
   ]
  },
  {
   "cell_type": "code",
   "execution_count": null,
   "id": "10dbc438",
   "metadata": {},
   "outputs": [],
   "source": [
    "class parent:\n",
    "    \n",
    "    def house(self):\n",
    "        print(\"I am parent and i have a house\")\n",
    "      \n",
    "class child(parent):\n",
    "    \n",
    "    def dh(self):\n",
    "        print(\"I am child and i have a duplex house\")\n",
    "       \n",
    "class gc(child):\n",
    "    \n",
    "    def lambo(self):\n",
    "        print(\"I am gc and i have a lambo car\")\n",
    "        \n",
    "ob = gc()\n",
    "ob.house()\n",
    "ob.dh()\n",
    "ob.lambo()"
   ]
  },
  {
   "cell_type": "raw",
   "id": "873ad85f",
   "metadata": {},
   "source": [
    "Hierarchical inheritance  "
   ]
  },
  {
   "cell_type": "code",
   "execution_count": null,
   "id": "1ca26083",
   "metadata": {},
   "outputs": [],
   "source": [
    "class parent:\n",
    "\n",
    "    def house(self):\n",
    "        print(\"Iam parent, I have hosue\")\n",
    "\n",
    "class child1(parent):\n",
    "\n",
    "    def car(self):\n",
    "        print(\"Iam child, I have car\")\n",
    "\n",
    "class child2(parent):\n",
    "\n",
    "    def bike(self):\n",
    "        print(\"Iam grand child, I have bike\")\n",
    "\n",
    "ob = child2()\n",
    "ob."
   ]
  },
  {
   "cell_type": "raw",
   "id": "75f91bd9",
   "metadata": {},
   "source": [
    "multiple inheritance"
   ]
  },
  {
   "cell_type": "code",
   "execution_count": 8,
   "id": "2beab523",
   "metadata": {},
   "outputs": [
    {
     "name": "stdout",
     "output_type": "stream",
     "text": [
      "I am a father and i have a house\n",
      "I am a mother and i have a gold\n",
      "I am child and i have a car\n"
     ]
    }
   ],
   "source": [
    "class father:\n",
    "    \n",
    "    def house(self):\n",
    "        print(\"I am a father and i have a house\")\n",
    "       \n",
    "class mother:\n",
    "    \n",
    "    def gold(self):\n",
    "        print(\"I am a mother and i have a gold\")\n",
    "        \n",
    "class child(father,mother):\n",
    "    \n",
    "    def car(self):\n",
    "        print(\"I am child and i have a car\")\n",
    "        \n",
    "        \n",
    "ob = child()\n",
    "ob.house()\n",
    "ob.gold()\n",
    "ob.car()"
   ]
  },
  {
   "cell_type": "raw",
   "id": "341f4084",
   "metadata": {},
   "source": [
    "Encapsulation"
   ]
  },
  {
   "cell_type": "code",
   "execution_count": null,
   "id": "520f4acf",
   "metadata": {},
   "outputs": [],
   "source": [
    "#public: Public  (generally members declared in a class) are accessible from outside the class.\n",
    "#protected: The members of a class that are declared protected are only accessible which are deriveved from a base class dit. adding a single underscore ‘_’ symbol before the data member\n",
    "# private:The members of a class that are declared private are accessible within the class only,\n",
    "        #private access modifier is the most secure access modifier. adding a double underscore ‘__’ symbol before the data member"
   ]
  },
  {
   "cell_type": "code",
   "execution_count": 10,
   "id": "107649e9",
   "metadata": {},
   "outputs": [
    {
     "name": "stdout",
     "output_type": "stream",
     "text": [
      "vineetha\n",
      "24\n"
     ]
    },
    {
     "ename": "AttributeError",
     "evalue": "'employee' object has no attribute '__salary'",
     "output_type": "error",
     "traceback": [
      "\u001b[1;31m---------------------------------------------------------------------------\u001b[0m",
      "\u001b[1;31mAttributeError\u001b[0m                            Traceback (most recent call last)",
      "\u001b[1;32m<ipython-input-10-0a4b3b89de06>\u001b[0m in \u001b[0;36m<module>\u001b[1;34m\u001b[0m\n\u001b[0;32m      8\u001b[0m \u001b[0mprint\u001b[0m\u001b[1;33m(\u001b[0m\u001b[0mob\u001b[0m\u001b[1;33m.\u001b[0m\u001b[0mname\u001b[0m\u001b[1;33m)\u001b[0m\u001b[1;33m\u001b[0m\u001b[1;33m\u001b[0m\u001b[0m\n\u001b[0;32m      9\u001b[0m \u001b[0mprint\u001b[0m\u001b[1;33m(\u001b[0m\u001b[0mob\u001b[0m\u001b[1;33m.\u001b[0m\u001b[0m_age\u001b[0m\u001b[1;33m)\u001b[0m\u001b[1;33m\u001b[0m\u001b[1;33m\u001b[0m\u001b[0m\n\u001b[1;32m---> 10\u001b[1;33m \u001b[0mprint\u001b[0m\u001b[1;33m(\u001b[0m\u001b[0mob\u001b[0m\u001b[1;33m.\u001b[0m\u001b[0m__salary\u001b[0m\u001b[1;33m)\u001b[0m\u001b[1;33m\u001b[0m\u001b[1;33m\u001b[0m\u001b[0m\n\u001b[0m",
      "\u001b[1;31mAttributeError\u001b[0m: 'employee' object has no attribute '__salary'"
     ]
    }
   ],
   "source": [
    "class employee:\n",
    "    def __init__(self,name,age,salary):\n",
    "        self.name = name #public\n",
    "        self._age = age #protected\n",
    "        self.__salary = salary #private\n",
    "        \n",
    "ob = employee(\"vineetha\", 24,100)\n",
    "print(ob.name)\n",
    "print(ob._age)\n",
    "print(ob.__salary) #as this is private we wont be able to access it        "
   ]
  },
  {
   "cell_type": "code",
   "execution_count": 11,
   "id": "00666844",
   "metadata": {},
   "outputs": [
    {
     "name": "stdout",
     "output_type": "stream",
     "text": [
      "vineetha\n",
      "24\n",
      "100\n"
     ]
    }
   ],
   "source": [
    "class employee:\n",
    "    def __init__(self,name,age,salary):\n",
    "        self.name = name #public\n",
    "        self._age = age #protected\n",
    "        self.__salary = salary #private\n",
    "        \n",
    "ob = employee(\"vineetha\", 24,100)\n",
    "print(ob.name)\n",
    "print(ob._age)\n",
    "print(ob._employee__salary) #we can access with class employee:but never recommended"
   ]
  },
  {
   "cell_type": "code",
   "execution_count": 17,
   "id": "8c28266b",
   "metadata": {},
   "outputs": [
    {
     "name": "stdout",
     "output_type": "stream",
     "text": [
      "100\n"
     ]
    }
   ],
   "source": [
    "class employee:\n",
    "    def __init__(self,name,age,salary):\n",
    "        self.name = name\n",
    "        self._age = age\n",
    "        self.__salary = salary\n",
    "    \n",
    "    def get_salary(self):\n",
    "        return self.__salary\n",
    "    \n",
    "    def set_salary(self,new_salary):\n",
    "        self.salary = new_salary\n",
    "        \n",
    "ob = employee(\"vineetha\",24,100)\n",
    "print(ob.get_salary())  #another way to get the "
   ]
  },
  {
   "cell_type": "code",
   "execution_count": 19,
   "id": "7dc6d1a0",
   "metadata": {},
   "outputs": [
    {
     "name": "stdout",
     "output_type": "stream",
     "text": [
      "55\n"
     ]
    }
   ],
   "source": [
    "class school:\n",
    "    def __init__(self,name,std,mark):\n",
    "        self.name = name\n",
    "        self._std =std\n",
    "        self.__mark = mark\n",
    "        \n",
    "    def get_mark(self):\n",
    "        return self.__mark\n",
    "  \n",
    "    def set_mark(self,new_mark):\n",
    "        self.mark = new_mark\n",
    "        \n",
    "        \n",
    "ob = school(\"Raj\",10,55)\n",
    "print(ob.get_mark())"
   ]
  },
  {
   "cell_type": "raw",
   "id": "134e6f7e",
   "metadata": {},
   "source": [
    "Abstraction"
   ]
  },
  {
   "cell_type": "markdown",
   "id": "f6ac217b",
   "metadata": {},
   "source": [
    "By default, Python does not provide abstract classes. Python comes with a module which provides the base for defining Abstract Base classes(ABC) and that module name is ABC. ABC works by decorating methods of the base class as abstract and then registering concrete classes as implementations of the abstract base. A method becomes abstract when decorated with the keyword @abstractmethod."
   ]
  },
  {
   "cell_type": "code",
   "execution_count": 20,
   "id": "0641d50d",
   "metadata": {},
   "outputs": [
    {
     "ename": "TypeError",
     "evalue": "Can't instantiate abstract class mobile_design with abstract methods best_screen",
     "output_type": "error",
     "traceback": [
      "\u001b[1;31m---------------------------------------------------------------------------\u001b[0m",
      "\u001b[1;31mTypeError\u001b[0m                                 Traceback (most recent call last)",
      "\u001b[1;32m<ipython-input-20-d6345cacccf0>\u001b[0m in \u001b[0;36m<module>\u001b[1;34m\u001b[0m\n\u001b[0;32m     13\u001b[0m         \u001b[0mprint\u001b[0m\u001b[1;33m(\u001b[0m\u001b[1;34m\"this is a dual camera\"\u001b[0m\u001b[1;33m)\u001b[0m\u001b[1;33m\u001b[0m\u001b[1;33m\u001b[0m\u001b[0m\n\u001b[0;32m     14\u001b[0m \u001b[1;33m\u001b[0m\u001b[0m\n\u001b[1;32m---> 15\u001b[1;33m \u001b[0mob\u001b[0m \u001b[1;33m=\u001b[0m \u001b[0mmobile_design\u001b[0m\u001b[1;33m(\u001b[0m\u001b[1;33m)\u001b[0m\u001b[1;33m\u001b[0m\u001b[1;33m\u001b[0m\u001b[0m\n\u001b[0m\u001b[0;32m     16\u001b[0m \u001b[1;33m\u001b[0m\u001b[0m\n",
      "\u001b[1;31mTypeError\u001b[0m: Can't instantiate abstract class mobile_design with abstract methods best_screen"
     ]
    }
   ],
   "source": [
    "from abc import ABC, abstractmethod\n",
    "class mobile_design(ABC):\n",
    "    \n",
    "    def camera(self):\n",
    "        pass\n",
    "    @abstractmethod\n",
    "    def best_screen(self):\n",
    "        pass\n",
    "    \n",
    "class test(mobile_design):\n",
    "    \n",
    "    def camera(self):\n",
    "        print(\"this is a dual camera\")\n",
    "        \n",
    "ob = mobile_design()\n",
    "        "
   ]
  },
  {
   "cell_type": "code",
   "execution_count": 22,
   "id": "57352691",
   "metadata": {},
   "outputs": [],
   "source": [
    "from abc import ABC, abstractmethod\n",
    "class mobile_design(ABC):\n",
    "    @abstractmethod\n",
    "    def camera(self):\n",
    "        pass\n",
    "    @abstractmethod\n",
    "    def best_screen(self):\n",
    "        pass\n",
    "    \n",
    "class test(mobile_design):\n",
    "    \n",
    "    def camera(self):\n",
    "        print(\"this is a dual camera\")\n",
    "        \n",
    "    def best_screen(self):\n",
    "        print(\"best screen implemented\")\n",
    "        \n",
    "ob = test()\n",
    "        "
   ]
  },
  {
   "cell_type": "code",
   "execution_count": 23,
   "id": "61914951",
   "metadata": {},
   "outputs": [
    {
     "data": {
      "text/plain": [
       "10"
      ]
     },
     "execution_count": 23,
     "metadata": {},
     "output_type": "execute_result"
    }
   ],
   "source": [
    "#We use Abstraction for hiding the internal details or implementations of a function and showing its functionalities only.\n",
    "\"\"\"\n",
    "Any class with at least one abstract function is an abstract class. \n",
    "In order to create an abstraction class first, you need to import ABC class from abc module. \n",
    "This lets you create abstract methods inside it. ABC stands for Abstract Base Class.\n",
    "from abc import ABC, abstractmethod\n",
    "\"\"\"\n",
    "\n",
    "#parent is the abstract class that inherits from the ABC class from the abc module.\n",
    "\n",
    "class parent(ABC): \n",
    "    \n",
    "\n",
    "    def add(self): #concrete method\n",
    "        pass\n",
    "    \n",
    "    \n",
    "    @abstractmethod\n",
    "    def sub(self):  #abstract method\n",
    "        pass\n",
    "\n",
    "class child(parent): \n",
    "    \n",
    "    def __init__(self, n1, n2):\n",
    "        self.num1 = n1\n",
    "        self.num2 = n2\n",
    "        \n",
    "    def add(self):\n",
    "        return self.num1 + self.num2\n",
    "    \n",
    "    def sub(self):\n",
    "        return self.num1 - self.num2\n",
    "    \n",
    "c1 = child(6,4)\n",
    "c1.add()"
   ]
  },
  {
   "cell_type": "raw",
   "id": "0478ecba",
   "metadata": {},
   "source": [
    "Polymorphism"
   ]
  },
  {
   "cell_type": "raw",
   "id": "c707b824",
   "metadata": {},
   "source": [
    "operator overloading"
   ]
  },
  {
   "cell_type": "code",
   "execution_count": 24,
   "id": "9edfafea",
   "metadata": {},
   "outputs": [
    {
     "name": "stdout",
     "output_type": "stream",
     "text": [
      "3\n"
     ]
    }
   ],
   "source": [
    "a = 1\n",
    "b = 2\n",
    "print(a+b)"
   ]
  },
  {
   "cell_type": "code",
   "execution_count": 25,
   "id": "e4e67310",
   "metadata": {},
   "outputs": [
    {
     "name": "stdout",
     "output_type": "stream",
     "text": [
      "3\n",
      "helloworld\n",
      "(1, 2, 3, 4, 5, 6)\n"
     ]
    }
   ],
   "source": [
    "#operator overloading\n",
    "a = 1\n",
    "b = 2\n",
    "print(a + b)\n",
    "\n",
    "c = \"hello\"\n",
    "d = \"world\"\n",
    "print(c+d)\n",
    "\n",
    "e = (1,2,3)\n",
    "f = (4,5,6)\n",
    "print(e+f)"
   ]
  },
  {
   "cell_type": "code",
   "execution_count": 26,
   "id": "489a5586",
   "metadata": {},
   "outputs": [
    {
     "name": "stdout",
     "output_type": "stream",
     "text": [
      "3\n",
      "helloworld\n",
      "(1, 2, 3, 4, 5, 6)\n"
     ]
    }
   ],
   "source": [
    "print(int.__add__(a,b))\n",
    "print(str.__add__(c,d))\n",
    "print(tuple.__add__(e,f))"
   ]
  },
  {
   "cell_type": "code",
   "execution_count": 27,
   "id": "f8c05dc7",
   "metadata": {},
   "outputs": [
    {
     "name": "stdout",
     "output_type": "stream",
     "text": [
      "3000\n"
     ]
    }
   ],
   "source": [
    "class exp:\n",
    "    def __init__(self, exp):\n",
    "        self.exp = exp\n",
    "    \n",
    "    def __add__(self, other):\n",
    "        return (self.exp + other.exp)\n",
    "    \n",
    "e1 = exp(1000)\n",
    "e2 = exp(2000)\n",
    "\n",
    "print(e1 + e2)#e1.__add__(e2)"
   ]
  },
  {
   "cell_type": "code",
   "execution_count": null,
   "id": "d8396fcd",
   "metadata": {},
   "outputs": [],
   "source": []
  }
 ],
 "metadata": {
  "kernelspec": {
   "display_name": "Python 3",
   "language": "python",
   "name": "python3"
  },
  "language_info": {
   "codemirror_mode": {
    "name": "ipython",
    "version": 3
   },
   "file_extension": ".py",
   "mimetype": "text/x-python",
   "name": "python",
   "nbconvert_exporter": "python",
   "pygments_lexer": "ipython3",
   "version": "3.8.8"
  }
 },
 "nbformat": 4,
 "nbformat_minor": 5
}
