{
 "cells": [
  {
   "cell_type": "markdown",
   "id": "24d4a972",
   "metadata": {},
   "source": [
    "# OOPS- Object Oriented Programming"
   ]
  },
  {
   "cell_type": "markdown",
   "id": "8e59ab33",
   "metadata": {},
   "source": [
    "Object-Oriented Programming (or OOP) is a paradigm of programming in which programs are written and structured around objects rather than functions or logic."
   ]
  },
  {
   "cell_type": "markdown",
   "id": "31466959",
   "metadata": {},
   "source": [
    "Class : In OOP class is a blue print of an object\n",
    "    "
   ]
  },
  {
   "cell_type": "markdown",
   "id": "6a605e09",
   "metadata": {},
   "source": [
    "Object : object is an instance of a class which has the structure of its blueprint but also owns its unique state and behaviour."
   ]
  },
  {
   "cell_type": "markdown",
   "id": "5119c6d2",
   "metadata": {},
   "source": [
    "Self parameter : The self parameter is a reference to the current instance of the class, and is used to access variables that belongs to the class."
   ]
  },
  {
   "cell_type": "code",
   "execution_count": 20,
   "id": "38bd4124",
   "metadata": {},
   "outputs": [
    {
     "name": "stdout",
     "output_type": "stream",
     "text": [
      "Thanks for purchasing  iphone with 128GB\n"
     ]
    }
   ],
   "source": [
    "class mobile:\n",
    "    \n",
    "    def mobile_purchase(self, name,ram):\n",
    "        print(\"Thanks for purchasing \",name ,\"with\",ram)\n",
    "        \n",
    "arthi = mobile()\n",
    "arthi_name = 'iphone' #instance variables\n",
    "arthi_ram = '128GB' #instance variables\n",
    "arthi.mobile_purchase(arthi_name,arthi_ram)"
   ]
  },
  {
   "cell_type": "code",
   "execution_count": 26,
   "id": "cd33ac84",
   "metadata": {},
   "outputs": [
    {
     "name": "stdout",
     "output_type": "stream",
     "text": [
      "Thanks for purchasing Silk Saree for the 3000 Rs\n",
      "Thanks for purchasing A Line Kurta for the 500 Rs\n"
     ]
    }
   ],
   "source": [
    "class dress():\n",
    "    \n",
    "    def dress_category(self, women, amt):\n",
    "        print(\"Thanks for purchasing\",women,\"for the\",amt ,'Rs')\n",
    "\n",
    "saree = dress()\n",
    "saree_var = 'Silk Saree' #instance variables\n",
    "saree_amt = '3000'#instance variables\n",
    "saree.dress_category(saree_var,saree_amt)\n",
    "\n",
    "kurta = dress()\n",
    "kurta_var ='A Line Kurta'#instance variables\n",
    "kurta_amt ='500'#instance variables\n",
    "kurta.dress_category(kurta_var,kurta_amt)"
   ]
  },
  {
   "cell_type": "markdown",
   "id": "dd66d806",
   "metadata": {},
   "source": [
    "Instance variable – instance variable is nothing but the variable belongs to object or instance called as instance variable or simply instance variable is a variable that is bound to object itself."
   ]
  },
  {
   "cell_type": "code",
   "execution_count": 30,
   "id": "af63a0ba",
   "metadata": {},
   "outputs": [
    {
     "name": "stdout",
     "output_type": "stream",
     "text": [
      "Thanks for purchasing Iphone with 128GB\n"
     ]
    }
   ],
   "source": [
    "class mobile():\n",
    "    \n",
    "    def __init__(self, name,ram):\n",
    "        self.name = name\n",
    "        self.ram = ram\n",
    "    \n",
    "    \n",
    "    def mobile_purchase(self):\n",
    "        print(\"Thanks for purchasing\",self.name, \"with\",self.ram)\n",
    "        \n",
    "arthi = mobile(\"Iphone\",\"128GB\")\n",
    "arthi.mobile_purchase()"
   ]
  },
  {
   "cell_type": "code",
   "execution_count": 34,
   "id": "a865548a",
   "metadata": {},
   "outputs": [
    {
     "name": "stdout",
     "output_type": "stream",
     "text": [
      "Thanks for purchasing Samsung with 8GB\n"
     ]
    }
   ],
   "source": [
    "class mobile():\n",
    "    \n",
    "    def __init__(self, name, ram):\n",
    "        self.name = name\n",
    "        self.ram = ram\n",
    "        \n",
    "    def mobile_purchase(self):\n",
    "        print(\"Thanks for purchasing\",self.name,\"with\",self.ram)\n",
    "        \n",
    "bhanu = mobile(\"Samsung\",\"8GB\")\n",
    "bhanu.mobile_purchase()"
   ]
  },
  {
   "cell_type": "code",
   "execution_count": 37,
   "id": "439557c2",
   "metadata": {},
   "outputs": [
    {
     "name": "stdout",
     "output_type": "stream",
     "text": [
      "Thanks for purchasing A-line Kurta for the  500 Rs\n"
     ]
    }
   ],
   "source": [
    "class dress:\n",
    "    \n",
    "    def __init__(self, type, amt):\n",
    "        self.type = type\n",
    "        self.amt = amt\n",
    "        \n",
    "    def dress_purchase(self):\n",
    "        print(\"Thanks for purchasing\", self.type,\"for the \",self.amt,\"Rs\")\n",
    "        \n",
    "kurta = dress(\"A-line Kurta\",\"500\")\n",
    "kurta.dress_purchase()"
   ]
  },
  {
   "cell_type": "code",
   "execution_count": 38,
   "id": "83b4cfdc",
   "metadata": {},
   "outputs": [
    {
     "name": "stdout",
     "output_type": "stream",
     "text": [
      "Thanks for purchasing Banaras silk saree for the  8000 Rs\n"
     ]
    }
   ],
   "source": [
    "class saree:\n",
    "    \n",
    "    def __init__(self, types, amt):\n",
    "        self.types = types\n",
    "        self.amt = amt\n",
    "        \n",
    "    def saree_purchase(self):\n",
    "        print(\"Thanks for purchasing\",self.types,\"for the \",self.amt,\"Rs\")\n",
    "        \n",
    "sar = saree(\"Banaras silk saree\",\"8000\")\n",
    "sar.saree_purchase()"
   ]
  },
  {
   "cell_type": "raw",
   "id": "2d687ed4",
   "metadata": {},
   "source": [
    "class variable:"
   ]
  },
  {
   "cell_type": "markdown",
   "id": "0472e29d",
   "metadata": {},
   "source": [
    "A variable that is shared by all instances of the class. class variables are not used as frequently as instance variables are."
   ]
  },
  {
   "cell_type": "code",
   "execution_count": 9,
   "id": "4d42dd50",
   "metadata": {},
   "outputs": [
    {
     "name": "stdout",
     "output_type": "stream",
     "text": [
      "yes\n",
      "Thank you for having meal in our hotel your bill for the  Veg Biryani & 3 qty is for 600\n"
     ]
    }
   ],
   "source": [
    "class food():\n",
    "    \n",
    "    #class variable\n",
    "    spicy = 'yes'\n",
    "    \n",
    "        \n",
    "    def __init__(self,meal,qty,amt):\n",
    "        self.meal = meal\n",
    "        self.qty = qty\n",
    "        self.amt = amt\n",
    "        \n",
    "    def food_purchase(self):\n",
    "        print(\"Thank you for having meal in our hotel\",\"your bill for the \",self.meal,\"&\",self.qty,\"is for\",self.amt)\n",
    "        \n",
    "lunch = food(\"Veg Biryani\",\"3 qty\",\"600\")  \n",
    "print(lunch.spicy)\n",
    "lunch.food_purchase()"
   ]
  },
  {
   "cell_type": "markdown",
   "id": "359f27e4",
   "metadata": {},
   "source": [
    "# Methods"
   ]
  },
  {
   "cell_type": "raw",
   "id": "58fcad04",
   "metadata": {},
   "source": [
    "Instance method"
   ]
  },
  {
   "cell_type": "markdown",
   "id": "c8c26f41",
   "metadata": {},
   "source": [
    "instance method Instance method belong to the Object of the class not to the class. so, they can be called after creating the Object of the class."
   ]
  },
  {
   "cell_type": "code",
   "execution_count": 14,
   "id": "795943fe",
   "metadata": {},
   "outputs": [
    {
     "name": "stdout",
     "output_type": "stream",
     "text": [
      "object 1\n",
      "oppo 4\n",
      "Name :oppo\n",
      "ram :4\n"
     ]
    }
   ],
   "source": [
    "class mobile:\n",
    "    \n",
    "    #class variable\n",
    "    charger = 'yes'\n",
    "    \n",
    "    def __init__(self,name,ram):\n",
    "    #instance variable\n",
    "        self.name = name\n",
    "        self.ram = ram\n",
    "    \n",
    "    def display(self):\n",
    "        print(f\"Name :{ self.name}\\nram :{self.ram}\")\n",
    "              \n",
    "print(\"object 1\")\n",
    "m1 = mobile(\"oppo\", \"4\")\n",
    "print(m1.name, m1.ram)\n",
    "m1.display()    "
   ]
  },
  {
   "cell_type": "raw",
   "id": "ed4e4c8a",
   "metadata": {},
   "source": [
    "Class method"
   ]
  },
  {
   "cell_type": "markdown",
   "id": "59cd8085",
   "metadata": {},
   "source": [
    "class method Class methods don’t need self as an argument, but they do need a parameter called cls. This stands for class, and like self, gets automatically passed in by Python"
   ]
  },
  {
   "cell_type": "code",
   "execution_count": 17,
   "id": "6e0506f6",
   "metadata": {},
   "outputs": [
    {
     "name": "stdout",
     "output_type": "stream",
     "text": [
      "object 1\n",
      "Charger :yes\n",
      "Name :oppo\n",
      "ram :4\n"
     ]
    }
   ],
   "source": [
    "class mobile:\n",
    "    \n",
    "    #class variable\n",
    "    wireless_charging = \"yes\"\n",
    "    \n",
    "    def __init__(self, name, ram):\n",
    "        #instance variable\n",
    "        self.name = name\n",
    "        self.ram = ram\n",
    "        \n",
    "    #instance method     \n",
    "    def display(self):\n",
    "        print(f\"Name :{ self.name}\\nram :{self.ram}\")\n",
    "    \n",
    "    @classmethod    \n",
    "    def verification(cls):\n",
    "        return f'Charger :{cls.wireless_charging}'\n",
    "    \n",
    "    \n",
    "print(\"object 1\")\n",
    "m1 = mobile(\"oppo\", \"4\")\n",
    "print(m1.verification())\n",
    "m1.display()"
   ]
  },
  {
   "cell_type": "raw",
   "id": "fb3ce8bb",
   "metadata": {},
   "source": [
    "static method"
   ]
  },
  {
   "cell_type": "markdown",
   "id": "f0798c52",
   "metadata": {},
   "source": [
    "static methods This type of method takes neither a self nor a cls parameter (but of course it’s free to accept an arbitrary number of other parameters)\n",
    "Note: It will be helpfull when we want to access other class objects"
   ]
  },
  {
   "cell_type": "code",
   "execution_count": 23,
   "id": "1d4ce7b0",
   "metadata": {},
   "outputs": [
    {
     "name": "stdout",
     "output_type": "stream",
     "text": [
      "yes\n",
      "Charger :yes\n",
      "Name is correct \n",
      "Name :Iphone\n",
      "ram :128\n"
     ]
    }
   ],
   "source": [
    "class mobile :\n",
    "    \n",
    "    #class variable\n",
    "    wireless_charger =\"yes\"\n",
    "    \n",
    "    def __init__(self,name,ram):\n",
    "        #instance variable\n",
    "        self.name = name\n",
    "        self.ram = ram\n",
    "     \n",
    "    #instance method\n",
    "    def display(self):\n",
    "        print(f\"Name :{ self.name}\\nram :{ self.ram}\")\n",
    "    \n",
    "    #class method\n",
    "    @classmethod\n",
    "    def verification(cls):\n",
    "        return f'Charger :{cls.wireless_charger}'\n",
    "    \n",
    "    #static method\n",
    "    @staticmethod\n",
    "    def get_name():\n",
    "        print(\"Name is correct \")\n",
    "        \n",
    "m1 = mobile(\"Iphone\", \"128\")\n",
    "print(mobile.wireless_charger)\n",
    "print(m1.verification())\n",
    "m1.get_name()\n",
    "m1.display()"
   ]
  },
  {
   "cell_type": "code",
   "execution_count": null,
   "id": "e8f83a26",
   "metadata": {},
   "outputs": [],
   "source": [
    "    "
   ]
  }
 ],
 "metadata": {
  "kernelspec": {
   "display_name": "Python 3",
   "language": "python",
   "name": "python3"
  },
  "language_info": {
   "codemirror_mode": {
    "name": "ipython",
    "version": 3
   },
   "file_extension": ".py",
   "mimetype": "text/x-python",
   "name": "python",
   "nbconvert_exporter": "python",
   "pygments_lexer": "ipython3",
   "version": "3.8.8"
  }
 },
 "nbformat": 4,
 "nbformat_minor": 5
}
