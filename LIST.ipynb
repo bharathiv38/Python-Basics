{
 "cells": [
  {
   "cell_type": "markdown",
   "id": "9200aed7",
   "metadata": {},
   "source": [
    "# List"
   ]
  },
  {
   "cell_type": "raw",
   "id": "799645d2",
   "metadata": {},
   "source": [
    "Lists are created using square brackets:\n",
    "Lists are used to store multiple items in a single variable.\n",
    "Lists are mutable(edit), this means we can change an item in a list by accessing it directly as part of the assignment statement.\n"
   ]
  },
  {
   "cell_type": "code",
   "execution_count": 50,
   "id": "6d0411c2",
   "metadata": {},
   "outputs": [
    {
     "data": {
      "text/plain": [
       "list"
      ]
     },
     "execution_count": 50,
     "metadata": {},
     "output_type": "execute_result"
    }
   ],
   "source": [
    "a = []\n",
    "type(a)"
   ]
  },
  {
   "cell_type": "code",
   "execution_count": 51,
   "id": "3d478939",
   "metadata": {},
   "outputs": [
    {
     "name": "stdout",
     "output_type": "stream",
     "text": [
      "()\n"
     ]
    }
   ],
   "source": [
    "a = ()\n",
    "print(a)"
   ]
  },
  {
   "cell_type": "code",
   "execution_count": 52,
   "id": "3806326d",
   "metadata": {},
   "outputs": [
    {
     "name": "stdout",
     "output_type": "stream",
     "text": [
      "[]\n"
     ]
    }
   ],
   "source": [
    "a = list()  #converting paranthesis into list\n",
    "print(a)"
   ]
  },
  {
   "cell_type": "code",
   "execution_count": 53,
   "id": "ef1fbc87",
   "metadata": {},
   "outputs": [
    {
     "name": "stdout",
     "output_type": "stream",
     "text": [
      "[1, 2, 3, 4, 5]\n"
     ]
    }
   ],
   "source": [
    "a = [1,2,3,4,5]\n",
    "print(a)"
   ]
  },
  {
   "cell_type": "code",
   "execution_count": 54,
   "id": "e1c51d1f",
   "metadata": {},
   "outputs": [
    {
     "name": "stdout",
     "output_type": "stream",
     "text": [
      "[1, 1.0, 'str']\n"
     ]
    }
   ],
   "source": [
    "b = [1,1.0,'str']  #list with mixed datatype like int,float,str\n",
    "print(b)"
   ]
  },
  {
   "cell_type": "code",
   "execution_count": 55,
   "id": "6fddce43",
   "metadata": {},
   "outputs": [
    {
     "name": "stdout",
     "output_type": "stream",
     "text": [
      "[1, 2, 3, 4, [3.5, 'true']]\n"
     ]
    }
   ],
   "source": [
    "c =[1,2,3,4,[3.5,\"true\"]]  #list inside list i.es nested list\n",
    "print(c)"
   ]
  },
  {
   "cell_type": "markdown",
   "id": "f1b78b87",
   "metadata": {},
   "source": [
    "# Indexing & Slicing"
   ]
  },
  {
   "cell_type": "code",
   "execution_count": 56,
   "id": "3c3bc917",
   "metadata": {},
   "outputs": [
    {
     "name": "stdout",
     "output_type": "stream",
     "text": [
      "['apple', 'mango', 'carrot', 'banana']\n"
     ]
    }
   ],
   "source": [
    "shoplist =['apple','mango','carrot','banana']\n",
    "print(shoplist)"
   ]
  },
  {
   "cell_type": "code",
   "execution_count": 57,
   "id": "d3646e36",
   "metadata": {},
   "outputs": [
    {
     "data": {
      "text/plain": [
       "'apple'"
      ]
     },
     "execution_count": 57,
     "metadata": {},
     "output_type": "execute_result"
    }
   ],
   "source": [
    "shoplist[0] #how to get apple as output"
   ]
  },
  {
   "cell_type": "code",
   "execution_count": 58,
   "id": "a0690a37",
   "metadata": {},
   "outputs": [
    {
     "data": {
      "text/plain": [
       "'banana'"
      ]
     },
     "execution_count": 58,
     "metadata": {},
     "output_type": "execute_result"
    }
   ],
   "source": [
    "shoplist[3]"
   ]
  },
  {
   "cell_type": "code",
   "execution_count": 59,
   "id": "eb229a5a",
   "metadata": {},
   "outputs": [
    {
     "data": {
      "text/plain": [
       "'mango'"
      ]
     },
     "execution_count": 59,
     "metadata": {},
     "output_type": "execute_result"
    }
   ],
   "source": [
    "#negative index starts from right to left, how to get output of mango\n",
    "shoplist[-3]"
   ]
  },
  {
   "cell_type": "code",
   "execution_count": 60,
   "id": "dac6c57c",
   "metadata": {},
   "outputs": [
    {
     "data": {
      "text/plain": [
       "'carrot'"
      ]
     },
     "execution_count": 60,
     "metadata": {},
     "output_type": "execute_result"
    }
   ],
   "source": [
    "shoplist[-2] #output of carrot"
   ]
  },
  {
   "cell_type": "code",
   "execution_count": 61,
   "id": "eced3951",
   "metadata": {},
   "outputs": [
    {
     "data": {
      "text/plain": [
       "'g'"
      ]
     },
     "execution_count": 61,
     "metadata": {},
     "output_type": "execute_result"
    }
   ],
   "source": [
    "#in 'mango' i want 'g' as and output and everything should be positive\n",
    "shoplist[1][3]"
   ]
  },
  {
   "cell_type": "code",
   "execution_count": 62,
   "id": "a327c3ab",
   "metadata": {},
   "outputs": [
    {
     "data": {
      "text/plain": [
       "'o'"
      ]
     },
     "execution_count": 62,
     "metadata": {},
     "output_type": "execute_result"
    }
   ],
   "source": [
    "#in 'carrot' i want 'o' as and output and everything should be positive\n",
    "shoplist[2][4]"
   ]
  },
  {
   "cell_type": "code",
   "execution_count": 63,
   "id": "7dd27328",
   "metadata": {},
   "outputs": [
    {
     "data": {
      "text/plain": [
       "'l'"
      ]
     },
     "execution_count": 63,
     "metadata": {},
     "output_type": "execute_result"
    }
   ],
   "source": [
    "#in 'apple' i want 'l' as and output and everything should be negative\n",
    "shoplist[-4][-2]"
   ]
  },
  {
   "cell_type": "code",
   "execution_count": 64,
   "id": "1b6634dc",
   "metadata": {},
   "outputs": [
    {
     "data": {
      "text/plain": [
       "'m'"
      ]
     },
     "execution_count": 64,
     "metadata": {},
     "output_type": "execute_result"
    }
   ],
   "source": [
    "#in 'mango' i want 'm' as and output and everything should be negative\n",
    "shoplist[-3][-5]"
   ]
  },
  {
   "cell_type": "code",
   "execution_count": 65,
   "id": "c76d7ff5",
   "metadata": {},
   "outputs": [
    {
     "data": {
      "text/plain": [
       "'b'"
      ]
     },
     "execution_count": 65,
     "metadata": {},
     "output_type": "execute_result"
    }
   ],
   "source": [
    "#in 'banana' i want 'b' as and output and one should be negative and another postive\n",
    "shoplist[-1][0]"
   ]
  },
  {
   "cell_type": "code",
   "execution_count": 66,
   "id": "b26e28b0",
   "metadata": {},
   "outputs": [
    {
     "data": {
      "text/plain": [
       "['mango', 'carrot']"
      ]
     },
     "execution_count": 66,
     "metadata": {},
     "output_type": "execute_result"
    }
   ],
   "source": [
    "#mango and carrot as output\n",
    "shoplist[1:3]"
   ]
  },
  {
   "cell_type": "code",
   "execution_count": 67,
   "id": "c7e24607",
   "metadata": {},
   "outputs": [
    {
     "data": {
      "text/plain": [
       "['mango', 'carrot', 'banana']"
      ]
     },
     "execution_count": 67,
     "metadata": {},
     "output_type": "execute_result"
    }
   ],
   "source": [
    "#mango carrot and banana as output\n",
    "shoplist[1:]"
   ]
  },
  {
   "cell_type": "code",
   "execution_count": 68,
   "id": "a6e161f9",
   "metadata": {},
   "outputs": [
    {
     "data": {
      "text/plain": [
       "['carrot', 'banana']"
      ]
     },
     "execution_count": 68,
     "metadata": {},
     "output_type": "execute_result"
    }
   ],
   "source": [
    "#carrot and banana as output\n",
    "shoplist[2:]"
   ]
  },
  {
   "cell_type": "code",
   "execution_count": 69,
   "id": "01cf09c0",
   "metadata": {},
   "outputs": [
    {
     "data": {
      "text/plain": [
       "['apple', 'mango', 'carrot']"
      ]
     },
     "execution_count": 69,
     "metadata": {},
     "output_type": "execute_result"
    }
   ],
   "source": [
    "#apple,mango and carrot as output\n",
    "shoplist[:3]"
   ]
  },
  {
   "cell_type": "code",
   "execution_count": 70,
   "id": "9540c349",
   "metadata": {},
   "outputs": [
    {
     "data": {
      "text/plain": [
       "['apple', 'mango']"
      ]
     },
     "execution_count": 70,
     "metadata": {},
     "output_type": "execute_result"
    }
   ],
   "source": [
    "#apple,mango negative\n",
    "shoplist[-4:-2]"
   ]
  },
  {
   "cell_type": "code",
   "execution_count": 71,
   "id": "4e1cd0fc",
   "metadata": {},
   "outputs": [
    {
     "data": {
      "text/plain": [
       "['mango', 'carrot']"
      ]
     },
     "execution_count": 71,
     "metadata": {},
     "output_type": "execute_result"
    }
   ],
   "source": [
    "#carrot mango negative\n",
    "shoplist[-3:-1]"
   ]
  },
  {
   "cell_type": "code",
   "execution_count": 72,
   "id": "79985361",
   "metadata": {},
   "outputs": [
    {
     "data": {
      "text/plain": [
       "'arro'"
      ]
     },
     "execution_count": 72,
     "metadata": {},
     "output_type": "execute_result"
    }
   ],
   "source": [
    "#carrot i need only 'arro' with negative\n",
    "shoplist[-2][-5:-1]"
   ]
  },
  {
   "cell_type": "code",
   "execution_count": 73,
   "id": "2c36aeee",
   "metadata": {},
   "outputs": [
    {
     "data": {
      "text/plain": [
       "'an'"
      ]
     },
     "execution_count": 73,
     "metadata": {},
     "output_type": "execute_result"
    }
   ],
   "source": [
    "#mango need only'n with negative\n",
    "shoplist[-3][-4:-2]"
   ]
  },
  {
   "cell_type": "code",
   "execution_count": 74,
   "id": "d6d7173a",
   "metadata": {},
   "outputs": [
    {
     "name": "stdout",
     "output_type": "stream",
     "text": [
      "['apple', 'mango', 'carrot', 'banana']\n"
     ]
    }
   ],
   "source": [
    "shoplist =['apple','mango','carrot','banana']\n",
    "print(shoplist)"
   ]
  },
  {
   "cell_type": "raw",
   "id": "d0a0c82d",
   "metadata": {},
   "source": [
    "# Python List Methods\n",
    "# Methods that are available with list object \n",
    "\n",
    "# Are accessed as list.method().\n",
    "'''\n",
    "append() - Add an element to the end of the list\n",
    "extend() - Add all elements of a list to the another list\n",
    "insert()- I nsert an item at the defined index\n",
    "remove() - Removes an item from the list\n",
    "pop() - Removes and returns an element at the given index\n",
    "clear() - Removes all items from the list\n",
    "index() - Returns the index of the first matched item\n",
    "count() - Returns the count of number of items passed as an argument\n",
    "sort() - Sort items in a list in ascending order\n",
    "reverse() - Reverse the order of items in the list\n",
    "copy() - Returns a shallow copy of the list\n",
    "'''"
   ]
  },
  {
   "cell_type": "code",
   "execution_count": 75,
   "id": "c855e183",
   "metadata": {},
   "outputs": [
    {
     "name": "stdout",
     "output_type": "stream",
     "text": [
      "['apple', 'mango', 'carrot', 'banana', 'Rice']\n"
     ]
    }
   ],
   "source": [
    "#how to new item to my existing list, make sure to run this one time otherwise it will be printed twice\n",
    "shoplist.append(\"Rice\")\n",
    "print(shoplist)"
   ]
  },
  {
   "cell_type": "code",
   "execution_count": 76,
   "id": "769deff8",
   "metadata": {},
   "outputs": [
    {
     "ename": "TypeError",
     "evalue": "extend() takes exactly one argument (2 given)",
     "output_type": "error",
     "traceback": [
      "\u001b[1;31m---------------------------------------------------------------------------\u001b[0m",
      "\u001b[1;31mTypeError\u001b[0m                                 Traceback (most recent call last)",
      "\u001b[1;32m<ipython-input-76-3c0ee9cdc92b>\u001b[0m in \u001b[0;36m<module>\u001b[1;34m\u001b[0m\n\u001b[0;32m      1\u001b[0m \u001b[1;31m#how to add multiple items in existing list\u001b[0m\u001b[1;33m\u001b[0m\u001b[1;33m\u001b[0m\u001b[1;33m\u001b[0m\u001b[0m\n\u001b[1;32m----> 2\u001b[1;33m \u001b[0mshoplist\u001b[0m\u001b[1;33m.\u001b[0m\u001b[0mextend\u001b[0m\u001b[1;33m(\u001b[0m\u001b[1;34m\"bottle\"\u001b[0m\u001b[1;33m,\u001b[0m\u001b[1;34m\"earphones\"\u001b[0m\u001b[1;33m)\u001b[0m\u001b[1;33m\u001b[0m\u001b[1;33m\u001b[0m\u001b[0m\n\u001b[0m\u001b[0;32m      3\u001b[0m \u001b[0mprint\u001b[0m\u001b[1;33m(\u001b[0m\u001b[0mshoplist\u001b[0m\u001b[1;33m)\u001b[0m\u001b[1;33m\u001b[0m\u001b[1;33m\u001b[0m\u001b[0m\n",
      "\u001b[1;31mTypeError\u001b[0m: extend() takes exactly one argument (2 given)"
     ]
    }
   ],
   "source": [
    "#how to add multiple items in existing list\n",
    "shoplist.extend(\"bottle\",\"earphones\")\n",
    "print(shoplist)"
   ]
  },
  {
   "cell_type": "markdown",
   "id": "805ee704",
   "metadata": {},
   "source": [
    "it gives an error inside a list we have to use []"
   ]
  },
  {
   "cell_type": "code",
   "execution_count": 77,
   "id": "0e316def",
   "metadata": {},
   "outputs": [
    {
     "name": "stdout",
     "output_type": "stream",
     "text": [
      "['apple', 'mango', 'carrot', 'banana', 'Rice', 'bottle', 'earphones']\n"
     ]
    }
   ],
   "source": [
    "#how to add multiple items in existing list\n",
    "shoplist.extend([\"bottle\",\"earphones\"])\n",
    "print(shoplist)"
   ]
  },
  {
   "cell_type": "code",
   "execution_count": 78,
   "id": "37f3a2f4",
   "metadata": {},
   "outputs": [
    {
     "name": "stdout",
     "output_type": "stream",
     "text": [
      "['apple', 'mango', 'carrot', 'banana', 'Rice', 'bottle', 'earphones']\n"
     ]
    }
   ],
   "source": [
    "print(shoplist)"
   ]
  },
  {
   "cell_type": "code",
   "execution_count": 79,
   "id": "b7e0ac70",
   "metadata": {},
   "outputs": [],
   "source": [
    "#after apple i need to add number 12345(at specific index)\n",
    "shoplist.insert(1,12345)"
   ]
  },
  {
   "cell_type": "code",
   "execution_count": 80,
   "id": "7f687d89",
   "metadata": {},
   "outputs": [
    {
     "name": "stdout",
     "output_type": "stream",
     "text": [
      "['apple', 12345, 'mango', 'carrot', 'banana', 'Rice', 'bottle', 'earphones']\n"
     ]
    }
   ],
   "source": [
    "print(shoplist)"
   ]
  },
  {
   "cell_type": "code",
   "execution_count": 81,
   "id": "b4d24c28",
   "metadata": {},
   "outputs": [
    {
     "name": "stdout",
     "output_type": "stream",
     "text": [
      "['apple', 20000, 'mango', 'carrot', 'banana', 'Rice', 'bottle', 'earphones']\n"
     ]
    }
   ],
   "source": [
    "#how to make 12345 how to update is 20000\n",
    "shoplist[1]=20000\n",
    "print(shoplist)"
   ]
  },
  {
   "cell_type": "code",
   "execution_count": 82,
   "id": "0edef271",
   "metadata": {},
   "outputs": [],
   "source": [
    "#remove 20000\n",
    "shoplist.remove(20000)"
   ]
  },
  {
   "cell_type": "code",
   "execution_count": 83,
   "id": "a1c1b819",
   "metadata": {},
   "outputs": [
    {
     "name": "stdout",
     "output_type": "stream",
     "text": [
      "['apple', 'mango', 'carrot', 'banana', 'Rice', 'bottle', 'earphones']\n"
     ]
    }
   ],
   "source": [
    "print(shoplist)"
   ]
  },
  {
   "cell_type": "code",
   "execution_count": 84,
   "id": "27f217a6",
   "metadata": {},
   "outputs": [
    {
     "data": {
      "text/plain": [
       "'bottle'"
      ]
     },
     "execution_count": 84,
     "metadata": {},
     "output_type": "execute_result"
    }
   ],
   "source": [
    "#how to delete bottle without using remove\n",
    "shoplist.pop(5)"
   ]
  },
  {
   "cell_type": "code",
   "execution_count": 85,
   "id": "615810f0",
   "metadata": {},
   "outputs": [
    {
     "name": "stdout",
     "output_type": "stream",
     "text": [
      "['apple', 'mango', 'carrot', 'banana', 'Rice', 'earphones']\n"
     ]
    }
   ],
   "source": [
    "print(shoplist)"
   ]
  },
  {
   "cell_type": "code",
   "execution_count": 86,
   "id": "41987d88",
   "metadata": {},
   "outputs": [
    {
     "name": "stdout",
     "output_type": "stream",
     "text": [
      "['apple', 'Rice', 'earphones']\n"
     ]
    }
   ],
   "source": [
    "#want to delete range of value\n",
    "del shoplist[1:4]\n",
    "print(shoplist)"
   ]
  },
  {
   "cell_type": "code",
   "execution_count": 87,
   "id": "d8cd2f34",
   "metadata": {},
   "outputs": [
    {
     "name": "stdout",
     "output_type": "stream",
     "text": [
      "[]\n"
     ]
    }
   ],
   "source": [
    "shoplist.clear() #clears the list\n",
    "print(shoplist)"
   ]
  },
  {
   "cell_type": "code",
   "execution_count": 88,
   "id": "872dc4da",
   "metadata": {},
   "outputs": [
    {
     "data": {
      "text/plain": [
       "0"
      ]
     },
     "execution_count": 88,
     "metadata": {},
     "output_type": "execute_result"
    }
   ],
   "source": [
    "A = [10,20,20,20,30,60,70,80,60,10]\n",
    "A.index(10)"
   ]
  },
  {
   "cell_type": "code",
   "execution_count": 89,
   "id": "b4b96f08",
   "metadata": {},
   "outputs": [
    {
     "data": {
      "text/plain": [
       "1"
      ]
     },
     "execution_count": 89,
     "metadata": {},
     "output_type": "execute_result"
    }
   ],
   "source": [
    "A = [10,20,20,20,30,60,70,80,60,10]#by default python give the data of first\n",
    "A.index(20)"
   ]
  },
  {
   "cell_type": "code",
   "execution_count": 90,
   "id": "6bc0ca67",
   "metadata": {},
   "outputs": [
    {
     "data": {
      "text/plain": [
       "6"
      ]
     },
     "execution_count": 90,
     "metadata": {},
     "output_type": "execute_result"
    }
   ],
   "source": [
    "A = [10,20,20,20,30,60,20,40,50,70,80,60,100]\n",
    "A.index(20, 4,8)"
   ]
  },
  {
   "cell_type": "code",
   "execution_count": 91,
   "id": "c779f6e1",
   "metadata": {},
   "outputs": [],
   "source": [
    "#reverse \n",
    "new_shop = ['choco','sugar','cream','ghee']\n",
    "new_shop.reverse()"
   ]
  },
  {
   "cell_type": "code",
   "execution_count": 92,
   "id": "4391d1eb",
   "metadata": {},
   "outputs": [
    {
     "data": {
      "text/plain": [
       "['ghee', 'cream', 'sugar', 'choco']"
      ]
     },
     "execution_count": 92,
     "metadata": {},
     "output_type": "execute_result"
    }
   ],
   "source": [
    "new_shop"
   ]
  },
  {
   "cell_type": "code",
   "execution_count": 94,
   "id": "138739cb",
   "metadata": {},
   "outputs": [
    {
     "data": {
      "text/plain": [
       "['choco', 'cream', 'ghee', 'sugar']"
      ]
     },
     "execution_count": 94,
     "metadata": {},
     "output_type": "execute_result"
    }
   ],
   "source": [
    "#sort\n",
    "new_shop.sort()\n",
    "new_shop"
   ]
  },
  {
   "cell_type": "markdown",
   "id": "39be9fb6",
   "metadata": {},
   "source": [
    "# List comprehensions"
   ]
  },
  {
   "cell_type": "code",
   "execution_count": 95,
   "id": "e5bf9e87",
   "metadata": {},
   "outputs": [],
   "source": [
    "#lets make a three list\n",
    "list_1 = [1,2,3]\n",
    "list_2 = [4,5,6]\n",
    "list_3 = [7,8,9]\n",
    "\n",
    "#storing \n",
    "matrix = [list_1,list_2,list_3]"
   ]
  },
  {
   "cell_type": "code",
   "execution_count": 96,
   "id": "337a8864",
   "metadata": {},
   "outputs": [
    {
     "data": {
      "text/plain": [
       "[[1, 2, 3], [4, 5, 6], [7, 8, 9]]"
      ]
     },
     "execution_count": 96,
     "metadata": {},
     "output_type": "execute_result"
    }
   ],
   "source": [
    "matrix"
   ]
  },
  {
   "cell_type": "code",
   "execution_count": 97,
   "id": "7f843722",
   "metadata": {},
   "outputs": [],
   "source": [
    "#build a list comprehension by deconstructing a for loop within a []\n",
    "first_col = [row[0] for row in matrix]"
   ]
  },
  {
   "cell_type": "code",
   "execution_count": 98,
   "id": "0a24a84a",
   "metadata": {},
   "outputs": [
    {
     "data": {
      "text/plain": [
       "[1, 4, 7]"
      ]
     },
     "execution_count": 98,
     "metadata": {},
     "output_type": "execute_result"
    }
   ],
   "source": [
    "first_col"
   ]
  },
  {
   "cell_type": "code",
   "execution_count": 99,
   "id": "01b9e3f9",
   "metadata": {},
   "outputs": [
    {
     "data": {
      "text/plain": [
       "[2, 5, 8]"
      ]
     },
     "execution_count": 99,
     "metadata": {},
     "output_type": "execute_result"
    }
   ],
   "source": [
    "first_row = [row[1] for row in matrix]\n",
    "first_row"
   ]
  },
  {
   "cell_type": "code",
   "execution_count": 100,
   "id": "8ec7d94e",
   "metadata": {},
   "outputs": [
    {
     "data": {
      "text/plain": [
       "[[2, 3], [5, 6], [8, 9]]"
      ]
     },
     "execution_count": 100,
     "metadata": {},
     "output_type": "execute_result"
    }
   ],
   "source": [
    "other_row = [row[1:] for row in matrix]\n",
    "other_row"
   ]
  },
  {
   "cell_type": "code",
   "execution_count": 101,
   "id": "2135cbae",
   "metadata": {},
   "outputs": [
    {
     "data": {
      "text/plain": [
       "[[1, 2, 3], [4, 5, 6], [7, 8, 9]]"
      ]
     },
     "execution_count": 101,
     "metadata": {},
     "output_type": "execute_result"
    }
   ],
   "source": [
    "matrix"
   ]
  },
  {
   "cell_type": "code",
   "execution_count": null,
   "id": "bac1873c",
   "metadata": {},
   "outputs": [],
   "source": []
  }
 ],
 "metadata": {
  "kernelspec": {
   "display_name": "Python 3",
   "language": "python",
   "name": "python3"
  },
  "language_info": {
   "codemirror_mode": {
    "name": "ipython",
    "version": 3
   },
   "file_extension": ".py",
   "mimetype": "text/x-python",
   "name": "python",
   "nbconvert_exporter": "python",
   "pygments_lexer": "ipython3",
   "version": "3.8.8"
  }
 },
 "nbformat": 4,
 "nbformat_minor": 5
}
